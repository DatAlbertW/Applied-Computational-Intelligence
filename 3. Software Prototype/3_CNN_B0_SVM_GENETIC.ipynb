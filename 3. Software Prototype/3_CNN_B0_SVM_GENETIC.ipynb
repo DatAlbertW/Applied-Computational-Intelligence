{
  "cells": [
    {
      "cell_type": "code",
      "execution_count": 1,
      "metadata": {
        "colab": {
          "base_uri": "https://localhost:8080/"
        },
        "id": "LjdaxC--rcbk",
        "outputId": "4273546d-2d3d-4a0a-caeb-bc179674d903"
      },
      "outputs": [
        {
          "name": "stdout",
          "output_type": "stream",
          "text": [
            "Requirement already satisfied: pygad in /Users/albertwv/miniconda3/lib/python3.11/site-packages (3.3.1)\n",
            "Requirement already satisfied: cloudpickle in /Users/albertwv/miniconda3/lib/python3.11/site-packages (from pygad) (3.0.0)\n",
            "Requirement already satisfied: matplotlib in /Users/albertwv/miniconda3/lib/python3.11/site-packages (from pygad) (3.8.0)\n",
            "Requirement already satisfied: numpy in /Users/albertwv/miniconda3/lib/python3.11/site-packages (from pygad) (1.26.1)\n",
            "Requirement already satisfied: contourpy>=1.0.1 in /Users/albertwv/miniconda3/lib/python3.11/site-packages (from matplotlib->pygad) (1.1.1)\n",
            "Requirement already satisfied: cycler>=0.10 in /Users/albertwv/miniconda3/lib/python3.11/site-packages (from matplotlib->pygad) (0.12.1)\n",
            "Requirement already satisfied: fonttools>=4.22.0 in /Users/albertwv/miniconda3/lib/python3.11/site-packages (from matplotlib->pygad) (4.43.1)\n",
            "Requirement already satisfied: kiwisolver>=1.0.1 in /Users/albertwv/miniconda3/lib/python3.11/site-packages (from matplotlib->pygad) (1.4.5)\n",
            "Requirement already satisfied: packaging>=20.0 in /Users/albertwv/miniconda3/lib/python3.11/site-packages (from matplotlib->pygad) (23.1)\n",
            "Requirement already satisfied: pillow>=6.2.0 in /Users/albertwv/miniconda3/lib/python3.11/site-packages (from matplotlib->pygad) (10.1.0)\n",
            "Requirement already satisfied: pyparsing>=2.3.1 in /Users/albertwv/miniconda3/lib/python3.11/site-packages (from matplotlib->pygad) (3.1.1)\n",
            "Requirement already satisfied: python-dateutil>=2.7 in /Users/albertwv/miniconda3/lib/python3.11/site-packages (from matplotlib->pygad) (2.8.2)\n",
            "Requirement already satisfied: six>=1.5 in /Users/albertwv/miniconda3/lib/python3.11/site-packages (from python-dateutil>=2.7->matplotlib->pygad) (1.16.0)\n",
            "Requirement already satisfied: pygad in /Users/albertwv/miniconda3/lib/python3.11/site-packages (3.3.1)\n",
            "Requirement already satisfied: plotly in /Users/albertwv/miniconda3/lib/python3.11/site-packages (5.22.0)\n",
            "Requirement already satisfied: cloudpickle in /Users/albertwv/miniconda3/lib/python3.11/site-packages (from pygad) (3.0.0)\n",
            "Requirement already satisfied: matplotlib in /Users/albertwv/miniconda3/lib/python3.11/site-packages (from pygad) (3.8.0)\n",
            "Requirement already satisfied: numpy in /Users/albertwv/miniconda3/lib/python3.11/site-packages (from pygad) (1.26.1)\n",
            "Requirement already satisfied: tenacity>=6.2.0 in /Users/albertwv/miniconda3/lib/python3.11/site-packages (from plotly) (8.3.0)\n",
            "Requirement already satisfied: packaging in /Users/albertwv/miniconda3/lib/python3.11/site-packages (from plotly) (23.1)\n",
            "Requirement already satisfied: contourpy>=1.0.1 in /Users/albertwv/miniconda3/lib/python3.11/site-packages (from matplotlib->pygad) (1.1.1)\n",
            "Requirement already satisfied: cycler>=0.10 in /Users/albertwv/miniconda3/lib/python3.11/site-packages (from matplotlib->pygad) (0.12.1)\n",
            "Requirement already satisfied: fonttools>=4.22.0 in /Users/albertwv/miniconda3/lib/python3.11/site-packages (from matplotlib->pygad) (4.43.1)\n",
            "Requirement already satisfied: kiwisolver>=1.0.1 in /Users/albertwv/miniconda3/lib/python3.11/site-packages (from matplotlib->pygad) (1.4.5)\n",
            "Requirement already satisfied: pillow>=6.2.0 in /Users/albertwv/miniconda3/lib/python3.11/site-packages (from matplotlib->pygad) (10.1.0)\n",
            "Requirement already satisfied: pyparsing>=2.3.1 in /Users/albertwv/miniconda3/lib/python3.11/site-packages (from matplotlib->pygad) (3.1.1)\n",
            "Requirement already satisfied: python-dateutil>=2.7 in /Users/albertwv/miniconda3/lib/python3.11/site-packages (from matplotlib->pygad) (2.8.2)\n",
            "Requirement already satisfied: six>=1.5 in /Users/albertwv/miniconda3/lib/python3.11/site-packages (from python-dateutil>=2.7->matplotlib->pygad) (1.16.0)\n"
          ]
        }
      ],
      "source": [
        "# Install PYGAD\n",
        "!pip install pygad\n",
        "!pip install pygad plotly"
      ]
    },
    {
      "cell_type": "code",
      "execution_count": 2,
      "metadata": {
        "id": "uN6xP_XYrGzH"
      },
      "outputs": [
        {
          "name": "stderr",
          "output_type": "stream",
          "text": [
            "2024-05-22 22:01:44.913759: I tensorflow/core/platform/cpu_feature_guard.cc:182] This TensorFlow binary is optimized to use available CPU instructions in performance-critical operations.\n",
            "To enable the following instructions: AVX2 FMA, in other operations, rebuild TensorFlow with the appropriate compiler flags.\n"
          ]
        }
      ],
      "source": [
        "# Importing libraries\n",
        "import os\n",
        "import numpy as np\n",
        "import pandas as pd\n",
        "import matplotlib.pyplot as plt\n",
        "from sklearn.model_selection import train_test_split, GridSearchCV\n",
        "from sklearn.metrics import accuracy_score, precision_score, recall_score, f1_score, confusion_matrix, classification_report, roc_curve, auc\n",
        "from sklearn.preprocessing import StandardScaler, LabelEncoder\n",
        "from sklearn.svm import SVC\n",
        "from tensorflow.keras.models import load_model, Model\n",
        "from tensorflow.keras.applications.efficientnet import preprocess_input\n",
        "from tensorflow.keras.utils import image_dataset_from_directory\n",
        "from tensorflow.data import AUTOTUNE\n",
        "from joblib import parallel_backend\n",
        "import pygad\n",
        "import plotly.graph_objects as go\n",
        "import time\n",
        "import seaborn as sns"
      ]
    },
    {
      "cell_type": "code",
      "execution_count": 3,
      "metadata": {
        "id": "R6wAXqhPrQF1"
      },
      "outputs": [],
      "source": [
        "# Image directory paths\n",
        "data_dir = '/Users/albertwv/Desktop/2_Semester/ACI/brain_tumor'"
      ]
    },
    {
      "cell_type": "code",
      "execution_count": 4,
      "metadata": {
        "colab": {
          "base_uri": "https://localhost:8080/"
        },
        "id": "gTpSNpwVMSN0",
        "outputId": "07a03404-4469-46bb-e8f3-d928b936be96"
      },
      "outputs": [
        {
          "name": "stdout",
          "output_type": "stream",
          "text": [
            "Found 5712 files belonging to 4 classes.\n",
            "Found 1311 files belonging to 4 classes.\n"
          ]
        }
      ],
      "source": [
        "# Load and preprocess images\n",
        "batch_size = 32\n",
        "img_size = (224, 224)\n",
        "\n",
        "train_dataset = image_dataset_from_directory(\n",
        "    directory=os.path.join(data_dir, 'Training'),\n",
        "    labels='inferred',\n",
        "    label_mode='int',\n",
        "    batch_size=batch_size,\n",
        "    image_size=img_size,\n",
        "    shuffle=True)\n",
        "\n",
        "test_dataset = image_dataset_from_directory(\n",
        "    directory=os.path.join(data_dir, 'Testing'),\n",
        "    labels='inferred',\n",
        "    label_mode='int',\n",
        "    batch_size=batch_size,\n",
        "    image_size=img_size,\n",
        "    shuffle=False)"
      ]
    },
    {
      "cell_type": "code",
      "execution_count": 5,
      "metadata": {
        "id": "0cDnMUsAMWZM"
      },
      "outputs": [],
      "source": [
        "# Configure datasets for performance\n",
        "train_dataset = train_dataset.cache().prefetch(buffer_size=AUTOTUNE)\n",
        "test_dataset = test_dataset.cache().prefetch(buffer_size=AUTOTUNE)"
      ]
    },
    {
      "cell_type": "code",
      "execution_count": 6,
      "metadata": {
        "colab": {
          "base_uri": "https://localhost:8080/"
        },
        "id": "UgN9IZWMMZtw",
        "outputId": "eb8cc5b7-e10a-4dec-d33e-61998d51dae4"
      },
      "outputs": [
        {
          "name": "stdout",
          "output_type": "stream",
          "text": [
            "Model: \"sequential\"\n",
            "_________________________________________________________________\n",
            " Layer (type)                Output Shape              Param #   \n",
            "=================================================================\n",
            " efficientnetb0 (Functional  (None, 1280)              4049571   \n",
            " )                                                               \n",
            "                                                                 \n",
            " batch_normalization (Batch  (None, 1280)              5120      \n",
            " Normalization)                                                  \n",
            "                                                                 \n",
            " flatten (Flatten)           (None, 1280)              0         \n",
            "                                                                 \n",
            " dense (Dense)               (None, 256)               327936    \n",
            "                                                                 \n",
            " dropout (Dropout)           (None, 256)               0         \n",
            "                                                                 \n",
            " dense_1 (Dense)             (None, 4)                 1028      \n",
            "                                                                 \n",
            "=================================================================\n",
            "Total params: 4383655 (16.72 MB)\n",
            "Trainable params: 4339072 (16.55 MB)\n",
            "Non-trainable params: 44583 (174.16 KB)\n",
            "_________________________________________________________________\n"
          ]
        }
      ],
      "source": [
        "# Load pre-trained EfficientNet B0 model\n",
        "model_path = '/Users/albertwv/Desktop/2_Semester/ACI/model_enb0.h5'\n",
        "pretrained_model = load_model(model_path)\n",
        "pretrained_model.summary()"
      ]
    },
    {
      "cell_type": "code",
      "execution_count": 7,
      "metadata": {
        "colab": {
          "base_uri": "https://localhost:8080/"
        },
        "id": "0ApRjOYCMetU",
        "outputId": "478cf278-b49c-455b-cf23-6e6d95644d86"
      },
      "outputs": [
        {
          "name": "stdout",
          "output_type": "stream",
          "text": [
            "Model: \"model\"\n",
            "_________________________________________________________________\n",
            " Layer (type)                Output Shape              Param #   \n",
            "=================================================================\n",
            " efficientnetb0_input (Inpu  [(None, 224, 224, 3)]     0         \n",
            " tLayer)                                                         \n",
            "                                                                 \n",
            " efficientnetb0 (Functional  (None, 1280)              4049571   \n",
            " )                                                               \n",
            "                                                                 \n",
            " batch_normalization (Batch  (None, 1280)              5120      \n",
            " Normalization)                                                  \n",
            "                                                                 \n",
            " flatten (Flatten)           (None, 1280)              0         \n",
            "                                                                 \n",
            "=================================================================\n",
            "Total params: 4054691 (15.47 MB)\n",
            "Trainable params: 4010108 (15.30 MB)\n",
            "Non-trainable params: 44583 (174.16 KB)\n",
            "_________________________________________________________________\n"
          ]
        }
      ],
      "source": [
        "# Use EfficientNetB0 model as feature extractor\n",
        "feature_extractor = Model(inputs=pretrained_model.input, outputs=pretrained_model.layers[2].output)\n",
        "feature_extractor.summary()"
      ]
    },
    {
      "cell_type": "code",
      "execution_count": 8,
      "metadata": {
        "colab": {
          "base_uri": "https://localhost:8080/"
        },
        "id": "hhkhkV4AMgWj",
        "outputId": "0bc5333c-92bc-46da-f13c-b56754d556d4"
      },
      "outputs": [
        {
          "name": "stdout",
          "output_type": "stream",
          "text": [
            "1/1 [==============================] - 5s 5s/step\n",
            "1/1 [==============================] - 2s 2s/step\n",
            "1/1 [==============================] - 2s 2s/step\n",
            "1/1 [==============================] - 2s 2s/step\n",
            "1/1 [==============================] - 2s 2s/step\n",
            "1/1 [==============================] - 2s 2s/step\n",
            "1/1 [==============================] - 2s 2s/step\n",
            "1/1 [==============================] - 2s 2s/step\n",
            "1/1 [==============================] - 2s 2s/step\n",
            "1/1 [==============================] - 2s 2s/step\n",
            "1/1 [==============================] - 2s 2s/step\n",
            "1/1 [==============================] - 2s 2s/step\n",
            "1/1 [==============================] - 2s 2s/step\n",
            "1/1 [==============================] - 2s 2s/step\n",
            "1/1 [==============================] - 2s 2s/step\n",
            "1/1 [==============================] - 2s 2s/step\n",
            "1/1 [==============================] - 2s 2s/step\n",
            "1/1 [==============================] - 2s 2s/step\n",
            "1/1 [==============================] - 1s 1s/step\n",
            "1/1 [==============================] - 2s 2s/step\n",
            "1/1 [==============================] - 2s 2s/step\n",
            "1/1 [==============================] - 2s 2s/step\n",
            "1/1 [==============================] - 2s 2s/step\n",
            "1/1 [==============================] - 2s 2s/step\n",
            "1/1 [==============================] - 2s 2s/step\n",
            "1/1 [==============================] - 2s 2s/step\n",
            "1/1 [==============================] - 1s 1s/step\n",
            "1/1 [==============================] - 1s 1s/step\n",
            "1/1 [==============================] - 2s 2s/step\n",
            "1/1 [==============================] - 1s 1s/step\n",
            "1/1 [==============================] - 2s 2s/step\n",
            "1/1 [==============================] - 2s 2s/step\n",
            "1/1 [==============================] - 1s 1s/step\n",
            "1/1 [==============================] - 2s 2s/step\n",
            "1/1 [==============================] - 1s 1s/step\n",
            "1/1 [==============================] - 2s 2s/step\n",
            "1/1 [==============================] - 2s 2s/step\n",
            "1/1 [==============================] - 2s 2s/step\n",
            "1/1 [==============================] - 2s 2s/step\n",
            "1/1 [==============================] - 2s 2s/step\n",
            "1/1 [==============================] - 2s 2s/step\n",
            "1/1 [==============================] - 2s 2s/step\n",
            "1/1 [==============================] - 2s 2s/step\n",
            "1/1 [==============================] - 2s 2s/step\n",
            "1/1 [==============================] - 2s 2s/step\n",
            "1/1 [==============================] - 2s 2s/step\n",
            "1/1 [==============================] - 2s 2s/step\n",
            "1/1 [==============================] - 2s 2s/step\n",
            "1/1 [==============================] - 2s 2s/step\n",
            "1/1 [==============================] - 2s 2s/step\n",
            "1/1 [==============================] - 2s 2s/step\n",
            "1/1 [==============================] - 2s 2s/step\n",
            "1/1 [==============================] - 1s 1s/step\n",
            "1/1 [==============================] - 2s 2s/step\n",
            "1/1 [==============================] - 2s 2s/step\n",
            "1/1 [==============================] - 2s 2s/step\n",
            "1/1 [==============================] - 2s 2s/step\n",
            "1/1 [==============================] - 2s 2s/step\n",
            "1/1 [==============================] - 2s 2s/step\n",
            "1/1 [==============================] - 2s 2s/step\n",
            "1/1 [==============================] - 2s 2s/step\n",
            "1/1 [==============================] - 2s 2s/step\n",
            "1/1 [==============================] - 2s 2s/step\n",
            "1/1 [==============================] - 2s 2s/step\n",
            "1/1 [==============================] - 2s 2s/step\n",
            "1/1 [==============================] - 2s 2s/step\n",
            "1/1 [==============================] - 2s 2s/step\n",
            "1/1 [==============================] - 2s 2s/step\n",
            "1/1 [==============================] - 2s 2s/step\n",
            "1/1 [==============================] - 2s 2s/step\n",
            "1/1 [==============================] - 2s 2s/step\n",
            "1/1 [==============================] - 2s 2s/step\n",
            "1/1 [==============================] - 2s 2s/step\n",
            "1/1 [==============================] - 2s 2s/step\n",
            "1/1 [==============================] - 2s 2s/step\n",
            "1/1 [==============================] - 2s 2s/step\n",
            "1/1 [==============================] - 2s 2s/step\n",
            "1/1 [==============================] - 2s 2s/step\n",
            "1/1 [==============================] - 2s 2s/step\n",
            "1/1 [==============================] - 2s 2s/step\n",
            "1/1 [==============================] - 2s 2s/step\n",
            "1/1 [==============================] - 2s 2s/step\n",
            "1/1 [==============================] - 2s 2s/step\n",
            "1/1 [==============================] - 2s 2s/step\n",
            "1/1 [==============================] - 2s 2s/step\n",
            "1/1 [==============================] - 1s 1s/step\n",
            "1/1 [==============================] - 2s 2s/step\n",
            "1/1 [==============================] - 1s 1s/step\n",
            "1/1 [==============================] - 2s 2s/step\n",
            "1/1 [==============================] - 2s 2s/step\n",
            "1/1 [==============================] - 1s 1s/step\n",
            "1/1 [==============================] - 2s 2s/step\n",
            "1/1 [==============================] - 2s 2s/step\n",
            "1/1 [==============================] - 2s 2s/step\n",
            "1/1 [==============================] - 2s 2s/step\n",
            "1/1 [==============================] - 2s 2s/step\n",
            "1/1 [==============================] - 2s 2s/step\n",
            "1/1 [==============================] - 1s 1s/step\n",
            "1/1 [==============================] - 2s 2s/step\n",
            "1/1 [==============================] - 2s 2s/step\n",
            "1/1 [==============================] - 2s 2s/step\n",
            "1/1 [==============================] - 2s 2s/step\n",
            "1/1 [==============================] - 2s 2s/step\n",
            "1/1 [==============================] - 2s 2s/step\n",
            "1/1 [==============================] - 2s 2s/step\n",
            "1/1 [==============================] - 2s 2s/step\n",
            "1/1 [==============================] - 2s 2s/step\n",
            "1/1 [==============================] - 2s 2s/step\n",
            "1/1 [==============================] - 2s 2s/step\n",
            "1/1 [==============================] - 2s 2s/step\n",
            "1/1 [==============================] - 2s 2s/step\n",
            "1/1 [==============================] - 2s 2s/step\n",
            "1/1 [==============================] - 2s 2s/step\n",
            "1/1 [==============================] - 2s 2s/step\n",
            "1/1 [==============================] - 2s 2s/step\n",
            "1/1 [==============================] - 2s 2s/step\n",
            "1/1 [==============================] - 2s 2s/step\n",
            "1/1 [==============================] - 2s 2s/step\n",
            "1/1 [==============================] - 2s 2s/step\n",
            "1/1 [==============================] - 2s 2s/step\n",
            "1/1 [==============================] - 2s 2s/step\n",
            "1/1 [==============================] - 2s 2s/step\n",
            "1/1 [==============================] - 2s 2s/step\n",
            "1/1 [==============================] - 2s 2s/step\n",
            "1/1 [==============================] - 2s 2s/step\n",
            "1/1 [==============================] - 2s 2s/step\n",
            "1/1 [==============================] - 2s 2s/step\n",
            "1/1 [==============================] - 2s 2s/step\n",
            "1/1 [==============================] - 2s 2s/step\n",
            "1/1 [==============================] - 2s 2s/step\n",
            "1/1 [==============================] - 2s 2s/step\n",
            "1/1 [==============================] - 2s 2s/step\n",
            "1/1 [==============================] - 2s 2s/step\n",
            "1/1 [==============================] - 2s 2s/step\n",
            "1/1 [==============================] - 1s 1s/step\n",
            "1/1 [==============================] - 2s 2s/step\n",
            "1/1 [==============================] - 2s 2s/step\n",
            "1/1 [==============================] - 2s 2s/step\n",
            "1/1 [==============================] - 2s 2s/step\n",
            "1/1 [==============================] - 2s 2s/step\n",
            "1/1 [==============================] - 2s 2s/step\n",
            "1/1 [==============================] - 2s 2s/step\n",
            "1/1 [==============================] - 2s 2s/step\n",
            "1/1 [==============================] - 2s 2s/step\n",
            "1/1 [==============================] - 2s 2s/step\n",
            "1/1 [==============================] - 2s 2s/step\n",
            "1/1 [==============================] - 2s 2s/step\n",
            "1/1 [==============================] - 2s 2s/step\n",
            "1/1 [==============================] - 2s 2s/step\n",
            "1/1 [==============================] - 2s 2s/step\n",
            "1/1 [==============================] - 2s 2s/step\n",
            "1/1 [==============================] - 2s 2s/step\n",
            "1/1 [==============================] - 2s 2s/step\n",
            "1/1 [==============================] - 2s 2s/step\n",
            "1/1 [==============================] - 2s 2s/step\n",
            "1/1 [==============================] - 2s 2s/step\n",
            "1/1 [==============================] - 2s 2s/step\n",
            "1/1 [==============================] - 2s 2s/step\n",
            "1/1 [==============================] - 2s 2s/step\n",
            "1/1 [==============================] - 2s 2s/step\n",
            "1/1 [==============================] - 2s 2s/step\n",
            "1/1 [==============================] - 2s 2s/step\n",
            "1/1 [==============================] - 2s 2s/step\n",
            "1/1 [==============================] - 2s 2s/step\n",
            "1/1 [==============================] - 2s 2s/step\n",
            "1/1 [==============================] - 2s 2s/step\n",
            "1/1 [==============================] - 2s 2s/step\n",
            "1/1 [==============================] - 2s 2s/step\n",
            "1/1 [==============================] - 2s 2s/step\n",
            "1/1 [==============================] - 2s 2s/step\n",
            "1/1 [==============================] - 1s 1s/step\n",
            "1/1 [==============================] - 1s 1s/step\n",
            "1/1 [==============================] - 2s 2s/step\n",
            "1/1 [==============================] - 1s 1s/step\n",
            "1/1 [==============================] - 1s 1s/step\n",
            "1/1 [==============================] - 1s 1s/step\n",
            "1/1 [==============================] - 2s 2s/step\n",
            "1/1 [==============================] - 2s 2s/step\n",
            "1/1 [==============================] - 3s 3s/step\n",
            "Feature extraction took: 306.13 seconds\n",
            "1/1 [==============================] - 2s 2s/step\n",
            "1/1 [==============================] - 2s 2s/step\n",
            "1/1 [==============================] - 2s 2s/step\n",
            "1/1 [==============================] - 2s 2s/step\n",
            "1/1 [==============================] - 2s 2s/step\n",
            "1/1 [==============================] - 2s 2s/step\n",
            "1/1 [==============================] - 2s 2s/step\n",
            "1/1 [==============================] - 2s 2s/step\n",
            "1/1 [==============================] - 2s 2s/step\n",
            "1/1 [==============================] - 2s 2s/step\n",
            "1/1 [==============================] - 2s 2s/step\n",
            "1/1 [==============================] - 2s 2s/step\n",
            "1/1 [==============================] - 2s 2s/step\n",
            "1/1 [==============================] - 2s 2s/step\n",
            "1/1 [==============================] - 2s 2s/step\n",
            "1/1 [==============================] - 2s 2s/step\n",
            "1/1 [==============================] - 2s 2s/step\n",
            "1/1 [==============================] - 2s 2s/step\n",
            "1/1 [==============================] - 2s 2s/step\n",
            "1/1 [==============================] - 2s 2s/step\n",
            "1/1 [==============================] - 2s 2s/step\n",
            "1/1 [==============================] - 2s 2s/step\n",
            "1/1 [==============================] - 2s 2s/step\n",
            "1/1 [==============================] - 2s 2s/step\n",
            "1/1 [==============================] - 2s 2s/step\n",
            "1/1 [==============================] - 2s 2s/step\n",
            "1/1 [==============================] - 2s 2s/step\n",
            "1/1 [==============================] - 2s 2s/step\n",
            "1/1 [==============================] - 2s 2s/step\n",
            "1/1 [==============================] - 2s 2s/step\n",
            "1/1 [==============================] - 2s 2s/step\n",
            "1/1 [==============================] - 2s 2s/step\n",
            "1/1 [==============================] - 2s 2s/step\n",
            "1/1 [==============================] - 2s 2s/step\n",
            "1/1 [==============================] - 2s 2s/step\n",
            "1/1 [==============================] - 2s 2s/step\n",
            "1/1 [==============================] - 2s 2s/step\n",
            "1/1 [==============================] - 2s 2s/step\n",
            "1/1 [==============================] - 2s 2s/step\n",
            "1/1 [==============================] - 2s 2s/step\n",
            "1/1 [==============================] - 1s 1s/step\n",
            "Feature extraction took: 68.31 seconds\n"
          ]
        }
      ],
      "source": [
        "# Extract features using batches\n",
        "def extract_features(dataset):\n",
        "    start_time = time.time()\n",
        "    all_features = []\n",
        "    all_labels = []\n",
        "    for images, labels in dataset:\n",
        "        features = feature_extractor.predict(images)\n",
        "        all_features.append(features)\n",
        "        all_labels.append(labels.numpy())\n",
        "    all_features = np.concatenate(all_features)\n",
        "    all_labels = np.concatenate(all_labels)\n",
        "    end_time = time.time()\n",
        "    print(f\"Feature extraction took: {end_time - start_time:.2f} seconds\")\n",
        "    return all_features, all_labels\n",
        "\n",
        "train_features, train_labels = extract_features(train_dataset)\n",
        "test_features, test_labels = extract_features(test_dataset)"
      ]
    },
    {
      "cell_type": "code",
      "execution_count": 9,
      "metadata": {
        "id": "KzlHhA-zMkF1"
      },
      "outputs": [],
      "source": [
        "# Scale features\n",
        "scaler = StandardScaler()\n",
        "train_features = scaler.fit_transform(train_features)\n",
        "test_features = scaler.transform(test_features)"
      ]
    },
    {
      "cell_type": "code",
      "execution_count": 10,
      "metadata": {
        "id": "KV7nKMd7Mmwv"
      },
      "outputs": [],
      "source": [
        "# Setting up Genetic Algorithm for SVM Hyperparameter Tuning\n",
        "best_fitness_values = []\n",
        "\n",
        "def fitness_func(ga_instance, solution, solution_idx):\n",
        "    C = solution[0]\n",
        "    gamma = solution[1]\n",
        "    svm_classifier = SVC(kernel='rbf', C=C, gamma=gamma, class_weight='balanced')\n",
        "    svm_classifier.fit(train_features, train_labels)\n",
        "    predictions = svm_classifier.predict(test_features)\n",
        "    accuracy = accuracy_score(test_labels, predictions)\n",
        "    return accuracy"
      ]
    },
    {
      "cell_type": "code",
      "execution_count": 11,
      "metadata": {
        "id": "qVTtVHCVMudi"
      },
      "outputs": [],
      "source": [
        "from IPython.display import display, clear_output"
      ]
    },
    {
      "cell_type": "code",
      "execution_count": 12,
      "metadata": {
        "id": "FjqRB8emMvTb"
      },
      "outputs": [],
      "source": [
        "# Collect fitness values for plotting\n",
        "def on_generation(ga_instance):\n",
        "    best_fitness_values.append(ga_instance.best_solution()[1])\n",
        "    print(f\"Generation {ga_instance.generations_completed}: Best Fitness = {ga_instance.best_solution()[1]}\")\n",
        "\n",
        "    # Update plot\n",
        "    clear_output(wait=True)\n",
        "    fig = go.Figure()\n",
        "    fig.add_trace(go.Scatter(\n",
        "        x=list(range(len(best_fitness_values))),\n",
        "        y=best_fitness_values,\n",
        "        mode='lines+markers',\n",
        "        name='Best Fitness'\n",
        "    ))\n",
        "    fig.update_layout(\n",
        "        title=\"Genetic Algorithm Optimization of SVM Hyperparameters\",\n",
        "        xaxis_title=\"Generation\",\n",
        "        yaxis_title=\"Best Fitness (Accuracy)\",\n",
        "        template=\"plotly_dark\"\n",
        "    )\n",
        "    display(fig)\n",
        "\n",
        "    # Add delay if needed\n",
        "    time.sleep(1)  # 1-second delay after each generation #this might slow down the genetic algorythm after PYGAD 3.3.0"
      ]
    },
    {
      "cell_type": "code",
      "execution_count": 13,
      "metadata": {
        "colab": {
          "base_uri": "https://localhost:8080/"
        },
        "id": "9Jb64pZPM4qw",
        "outputId": "aea402b3-1ebb-4d1b-f889-a1f84127658b"
      },
      "outputs": [
        {
          "name": "stderr",
          "output_type": "stream",
          "text": [
            "/Users/albertwv/miniconda3/lib/python3.11/site-packages/pygad/pygad.py:1139: UserWarning: The 'delay_after_gen' parameter is deprecated starting from PyGAD 3.3.0. To delay or pause the evolution after each generation, assign a callback function/method to the 'on_generation' parameter to adds some time delay.\n",
            "  warnings.warn(\"The 'delay_after_gen' parameter is deprecated starting from PyGAD 3.3.0. To delay or pause the evolution after each generation, assign a callback function/method to the 'on_generation' parameter to adds some time delay.\")\n"
          ]
        }
      ],
      "source": [
        "# Defining Genetic Algorithm\n",
        "ga_instance = pygad.GA(\n",
        "    num_generations=30, \n",
        "    num_parents_mating=5,\n",
        "    fitness_func=fitness_func,\n",
        "    sol_per_pop=10,\n",
        "    num_genes=2,\n",
        "    init_range_low=0.1,\n",
        "    init_range_high=10.0,\n",
        "    mutation_percent_genes=50,  \n",
        "    gene_type=float,\n",
        "    gene_space=[{'low': 0.1, 'high': 10.0}, {'low': 0.0001, 'high': 1.0}],\n",
        "    on_generation=on_generation\n",
        ")"
      ]
    },
    {
      "cell_type": "code",
      "execution_count": 14,
      "metadata": {
        "colab": {
          "base_uri": "https://localhost:8080/",
          "height": 158
        },
        "id": "vGhhY5uzNBFi",
        "outputId": "47bdfa80-117b-4967-fb70-efb25eece0f2"
      },
      "outputs": [
        {
          "data": {
            "application/vnd.plotly.v1+json": {
              "config": {
                "plotlyServerURL": "https://plot.ly"
              },
              "data": [
                {
                  "mode": "lines+markers",
                  "name": "Best Fitness",
                  "type": "scatter",
                  "x": [
                    0,
                    1,
                    2,
                    3,
                    4,
                    5,
                    6,
                    7,
                    8,
                    9,
                    10,
                    11,
                    12,
                    13,
                    14,
                    15,
                    16,
                    17,
                    18,
                    19,
                    20,
                    21,
                    22,
                    23,
                    24,
                    25,
                    26,
                    27,
                    28,
                    29
                  ],
                  "y": [
                    0.9809305873379099,
                    0.9809305873379099,
                    0.9809305873379099,
                    0.9809305873379099,
                    0.9809305873379099,
                    0.9809305873379099,
                    0.9816933638443935,
                    0.9816933638443935,
                    0.9816933638443935,
                    0.9816933638443935,
                    0.9816933638443935,
                    0.9816933638443935,
                    0.9816933638443935,
                    0.9816933638443935,
                    0.9816933638443935,
                    0.9816933638443935,
                    0.9816933638443935,
                    0.9816933638443935,
                    0.9816933638443935,
                    0.9816933638443935,
                    0.9816933638443935,
                    0.9816933638443935,
                    0.9816933638443935,
                    0.9816933638443935,
                    0.9816933638443935,
                    0.9816933638443935,
                    0.9816933638443935,
                    0.9816933638443935,
                    0.9816933638443935,
                    0.9816933638443935
                  ]
                }
              ],
              "layout": {
                "template": {
                  "data": {
                    "bar": [
                      {
                        "error_x": {
                          "color": "#f2f5fa"
                        },
                        "error_y": {
                          "color": "#f2f5fa"
                        },
                        "marker": {
                          "line": {
                            "color": "rgb(17,17,17)",
                            "width": 0.5
                          },
                          "pattern": {
                            "fillmode": "overlay",
                            "size": 10,
                            "solidity": 0.2
                          }
                        },
                        "type": "bar"
                      }
                    ],
                    "barpolar": [
                      {
                        "marker": {
                          "line": {
                            "color": "rgb(17,17,17)",
                            "width": 0.5
                          },
                          "pattern": {
                            "fillmode": "overlay",
                            "size": 10,
                            "solidity": 0.2
                          }
                        },
                        "type": "barpolar"
                      }
                    ],
                    "carpet": [
                      {
                        "aaxis": {
                          "endlinecolor": "#A2B1C6",
                          "gridcolor": "#506784",
                          "linecolor": "#506784",
                          "minorgridcolor": "#506784",
                          "startlinecolor": "#A2B1C6"
                        },
                        "baxis": {
                          "endlinecolor": "#A2B1C6",
                          "gridcolor": "#506784",
                          "linecolor": "#506784",
                          "minorgridcolor": "#506784",
                          "startlinecolor": "#A2B1C6"
                        },
                        "type": "carpet"
                      }
                    ],
                    "choropleth": [
                      {
                        "colorbar": {
                          "outlinewidth": 0,
                          "ticks": ""
                        },
                        "type": "choropleth"
                      }
                    ],
                    "contour": [
                      {
                        "colorbar": {
                          "outlinewidth": 0,
                          "ticks": ""
                        },
                        "colorscale": [
                          [
                            0,
                            "#0d0887"
                          ],
                          [
                            0.1111111111111111,
                            "#46039f"
                          ],
                          [
                            0.2222222222222222,
                            "#7201a8"
                          ],
                          [
                            0.3333333333333333,
                            "#9c179e"
                          ],
                          [
                            0.4444444444444444,
                            "#bd3786"
                          ],
                          [
                            0.5555555555555556,
                            "#d8576b"
                          ],
                          [
                            0.6666666666666666,
                            "#ed7953"
                          ],
                          [
                            0.7777777777777778,
                            "#fb9f3a"
                          ],
                          [
                            0.8888888888888888,
                            "#fdca26"
                          ],
                          [
                            1,
                            "#f0f921"
                          ]
                        ],
                        "type": "contour"
                      }
                    ],
                    "contourcarpet": [
                      {
                        "colorbar": {
                          "outlinewidth": 0,
                          "ticks": ""
                        },
                        "type": "contourcarpet"
                      }
                    ],
                    "heatmap": [
                      {
                        "colorbar": {
                          "outlinewidth": 0,
                          "ticks": ""
                        },
                        "colorscale": [
                          [
                            0,
                            "#0d0887"
                          ],
                          [
                            0.1111111111111111,
                            "#46039f"
                          ],
                          [
                            0.2222222222222222,
                            "#7201a8"
                          ],
                          [
                            0.3333333333333333,
                            "#9c179e"
                          ],
                          [
                            0.4444444444444444,
                            "#bd3786"
                          ],
                          [
                            0.5555555555555556,
                            "#d8576b"
                          ],
                          [
                            0.6666666666666666,
                            "#ed7953"
                          ],
                          [
                            0.7777777777777778,
                            "#fb9f3a"
                          ],
                          [
                            0.8888888888888888,
                            "#fdca26"
                          ],
                          [
                            1,
                            "#f0f921"
                          ]
                        ],
                        "type": "heatmap"
                      }
                    ],
                    "heatmapgl": [
                      {
                        "colorbar": {
                          "outlinewidth": 0,
                          "ticks": ""
                        },
                        "colorscale": [
                          [
                            0,
                            "#0d0887"
                          ],
                          [
                            0.1111111111111111,
                            "#46039f"
                          ],
                          [
                            0.2222222222222222,
                            "#7201a8"
                          ],
                          [
                            0.3333333333333333,
                            "#9c179e"
                          ],
                          [
                            0.4444444444444444,
                            "#bd3786"
                          ],
                          [
                            0.5555555555555556,
                            "#d8576b"
                          ],
                          [
                            0.6666666666666666,
                            "#ed7953"
                          ],
                          [
                            0.7777777777777778,
                            "#fb9f3a"
                          ],
                          [
                            0.8888888888888888,
                            "#fdca26"
                          ],
                          [
                            1,
                            "#f0f921"
                          ]
                        ],
                        "type": "heatmapgl"
                      }
                    ],
                    "histogram": [
                      {
                        "marker": {
                          "pattern": {
                            "fillmode": "overlay",
                            "size": 10,
                            "solidity": 0.2
                          }
                        },
                        "type": "histogram"
                      }
                    ],
                    "histogram2d": [
                      {
                        "colorbar": {
                          "outlinewidth": 0,
                          "ticks": ""
                        },
                        "colorscale": [
                          [
                            0,
                            "#0d0887"
                          ],
                          [
                            0.1111111111111111,
                            "#46039f"
                          ],
                          [
                            0.2222222222222222,
                            "#7201a8"
                          ],
                          [
                            0.3333333333333333,
                            "#9c179e"
                          ],
                          [
                            0.4444444444444444,
                            "#bd3786"
                          ],
                          [
                            0.5555555555555556,
                            "#d8576b"
                          ],
                          [
                            0.6666666666666666,
                            "#ed7953"
                          ],
                          [
                            0.7777777777777778,
                            "#fb9f3a"
                          ],
                          [
                            0.8888888888888888,
                            "#fdca26"
                          ],
                          [
                            1,
                            "#f0f921"
                          ]
                        ],
                        "type": "histogram2d"
                      }
                    ],
                    "histogram2dcontour": [
                      {
                        "colorbar": {
                          "outlinewidth": 0,
                          "ticks": ""
                        },
                        "colorscale": [
                          [
                            0,
                            "#0d0887"
                          ],
                          [
                            0.1111111111111111,
                            "#46039f"
                          ],
                          [
                            0.2222222222222222,
                            "#7201a8"
                          ],
                          [
                            0.3333333333333333,
                            "#9c179e"
                          ],
                          [
                            0.4444444444444444,
                            "#bd3786"
                          ],
                          [
                            0.5555555555555556,
                            "#d8576b"
                          ],
                          [
                            0.6666666666666666,
                            "#ed7953"
                          ],
                          [
                            0.7777777777777778,
                            "#fb9f3a"
                          ],
                          [
                            0.8888888888888888,
                            "#fdca26"
                          ],
                          [
                            1,
                            "#f0f921"
                          ]
                        ],
                        "type": "histogram2dcontour"
                      }
                    ],
                    "mesh3d": [
                      {
                        "colorbar": {
                          "outlinewidth": 0,
                          "ticks": ""
                        },
                        "type": "mesh3d"
                      }
                    ],
                    "parcoords": [
                      {
                        "line": {
                          "colorbar": {
                            "outlinewidth": 0,
                            "ticks": ""
                          }
                        },
                        "type": "parcoords"
                      }
                    ],
                    "pie": [
                      {
                        "automargin": true,
                        "type": "pie"
                      }
                    ],
                    "scatter": [
                      {
                        "marker": {
                          "line": {
                            "color": "#283442"
                          }
                        },
                        "type": "scatter"
                      }
                    ],
                    "scatter3d": [
                      {
                        "line": {
                          "colorbar": {
                            "outlinewidth": 0,
                            "ticks": ""
                          }
                        },
                        "marker": {
                          "colorbar": {
                            "outlinewidth": 0,
                            "ticks": ""
                          }
                        },
                        "type": "scatter3d"
                      }
                    ],
                    "scattercarpet": [
                      {
                        "marker": {
                          "colorbar": {
                            "outlinewidth": 0,
                            "ticks": ""
                          }
                        },
                        "type": "scattercarpet"
                      }
                    ],
                    "scattergeo": [
                      {
                        "marker": {
                          "colorbar": {
                            "outlinewidth": 0,
                            "ticks": ""
                          }
                        },
                        "type": "scattergeo"
                      }
                    ],
                    "scattergl": [
                      {
                        "marker": {
                          "line": {
                            "color": "#283442"
                          }
                        },
                        "type": "scattergl"
                      }
                    ],
                    "scattermapbox": [
                      {
                        "marker": {
                          "colorbar": {
                            "outlinewidth": 0,
                            "ticks": ""
                          }
                        },
                        "type": "scattermapbox"
                      }
                    ],
                    "scatterpolar": [
                      {
                        "marker": {
                          "colorbar": {
                            "outlinewidth": 0,
                            "ticks": ""
                          }
                        },
                        "type": "scatterpolar"
                      }
                    ],
                    "scatterpolargl": [
                      {
                        "marker": {
                          "colorbar": {
                            "outlinewidth": 0,
                            "ticks": ""
                          }
                        },
                        "type": "scatterpolargl"
                      }
                    ],
                    "scatterternary": [
                      {
                        "marker": {
                          "colorbar": {
                            "outlinewidth": 0,
                            "ticks": ""
                          }
                        },
                        "type": "scatterternary"
                      }
                    ],
                    "surface": [
                      {
                        "colorbar": {
                          "outlinewidth": 0,
                          "ticks": ""
                        },
                        "colorscale": [
                          [
                            0,
                            "#0d0887"
                          ],
                          [
                            0.1111111111111111,
                            "#46039f"
                          ],
                          [
                            0.2222222222222222,
                            "#7201a8"
                          ],
                          [
                            0.3333333333333333,
                            "#9c179e"
                          ],
                          [
                            0.4444444444444444,
                            "#bd3786"
                          ],
                          [
                            0.5555555555555556,
                            "#d8576b"
                          ],
                          [
                            0.6666666666666666,
                            "#ed7953"
                          ],
                          [
                            0.7777777777777778,
                            "#fb9f3a"
                          ],
                          [
                            0.8888888888888888,
                            "#fdca26"
                          ],
                          [
                            1,
                            "#f0f921"
                          ]
                        ],
                        "type": "surface"
                      }
                    ],
                    "table": [
                      {
                        "cells": {
                          "fill": {
                            "color": "#506784"
                          },
                          "line": {
                            "color": "rgb(17,17,17)"
                          }
                        },
                        "header": {
                          "fill": {
                            "color": "#2a3f5f"
                          },
                          "line": {
                            "color": "rgb(17,17,17)"
                          }
                        },
                        "type": "table"
                      }
                    ]
                  },
                  "layout": {
                    "annotationdefaults": {
                      "arrowcolor": "#f2f5fa",
                      "arrowhead": 0,
                      "arrowwidth": 1
                    },
                    "autotypenumbers": "strict",
                    "coloraxis": {
                      "colorbar": {
                        "outlinewidth": 0,
                        "ticks": ""
                      }
                    },
                    "colorscale": {
                      "diverging": [
                        [
                          0,
                          "#8e0152"
                        ],
                        [
                          0.1,
                          "#c51b7d"
                        ],
                        [
                          0.2,
                          "#de77ae"
                        ],
                        [
                          0.3,
                          "#f1b6da"
                        ],
                        [
                          0.4,
                          "#fde0ef"
                        ],
                        [
                          0.5,
                          "#f7f7f7"
                        ],
                        [
                          0.6,
                          "#e6f5d0"
                        ],
                        [
                          0.7,
                          "#b8e186"
                        ],
                        [
                          0.8,
                          "#7fbc41"
                        ],
                        [
                          0.9,
                          "#4d9221"
                        ],
                        [
                          1,
                          "#276419"
                        ]
                      ],
                      "sequential": [
                        [
                          0,
                          "#0d0887"
                        ],
                        [
                          0.1111111111111111,
                          "#46039f"
                        ],
                        [
                          0.2222222222222222,
                          "#7201a8"
                        ],
                        [
                          0.3333333333333333,
                          "#9c179e"
                        ],
                        [
                          0.4444444444444444,
                          "#bd3786"
                        ],
                        [
                          0.5555555555555556,
                          "#d8576b"
                        ],
                        [
                          0.6666666666666666,
                          "#ed7953"
                        ],
                        [
                          0.7777777777777778,
                          "#fb9f3a"
                        ],
                        [
                          0.8888888888888888,
                          "#fdca26"
                        ],
                        [
                          1,
                          "#f0f921"
                        ]
                      ],
                      "sequentialminus": [
                        [
                          0,
                          "#0d0887"
                        ],
                        [
                          0.1111111111111111,
                          "#46039f"
                        ],
                        [
                          0.2222222222222222,
                          "#7201a8"
                        ],
                        [
                          0.3333333333333333,
                          "#9c179e"
                        ],
                        [
                          0.4444444444444444,
                          "#bd3786"
                        ],
                        [
                          0.5555555555555556,
                          "#d8576b"
                        ],
                        [
                          0.6666666666666666,
                          "#ed7953"
                        ],
                        [
                          0.7777777777777778,
                          "#fb9f3a"
                        ],
                        [
                          0.8888888888888888,
                          "#fdca26"
                        ],
                        [
                          1,
                          "#f0f921"
                        ]
                      ]
                    },
                    "colorway": [
                      "#636efa",
                      "#EF553B",
                      "#00cc96",
                      "#ab63fa",
                      "#FFA15A",
                      "#19d3f3",
                      "#FF6692",
                      "#B6E880",
                      "#FF97FF",
                      "#FECB52"
                    ],
                    "font": {
                      "color": "#f2f5fa"
                    },
                    "geo": {
                      "bgcolor": "rgb(17,17,17)",
                      "lakecolor": "rgb(17,17,17)",
                      "landcolor": "rgb(17,17,17)",
                      "showlakes": true,
                      "showland": true,
                      "subunitcolor": "#506784"
                    },
                    "hoverlabel": {
                      "align": "left"
                    },
                    "hovermode": "closest",
                    "mapbox": {
                      "style": "dark"
                    },
                    "paper_bgcolor": "rgb(17,17,17)",
                    "plot_bgcolor": "rgb(17,17,17)",
                    "polar": {
                      "angularaxis": {
                        "gridcolor": "#506784",
                        "linecolor": "#506784",
                        "ticks": ""
                      },
                      "bgcolor": "rgb(17,17,17)",
                      "radialaxis": {
                        "gridcolor": "#506784",
                        "linecolor": "#506784",
                        "ticks": ""
                      }
                    },
                    "scene": {
                      "xaxis": {
                        "backgroundcolor": "rgb(17,17,17)",
                        "gridcolor": "#506784",
                        "gridwidth": 2,
                        "linecolor": "#506784",
                        "showbackground": true,
                        "ticks": "",
                        "zerolinecolor": "#C8D4E3"
                      },
                      "yaxis": {
                        "backgroundcolor": "rgb(17,17,17)",
                        "gridcolor": "#506784",
                        "gridwidth": 2,
                        "linecolor": "#506784",
                        "showbackground": true,
                        "ticks": "",
                        "zerolinecolor": "#C8D4E3"
                      },
                      "zaxis": {
                        "backgroundcolor": "rgb(17,17,17)",
                        "gridcolor": "#506784",
                        "gridwidth": 2,
                        "linecolor": "#506784",
                        "showbackground": true,
                        "ticks": "",
                        "zerolinecolor": "#C8D4E3"
                      }
                    },
                    "shapedefaults": {
                      "line": {
                        "color": "#f2f5fa"
                      }
                    },
                    "sliderdefaults": {
                      "bgcolor": "#C8D4E3",
                      "bordercolor": "rgb(17,17,17)",
                      "borderwidth": 1,
                      "tickwidth": 0
                    },
                    "ternary": {
                      "aaxis": {
                        "gridcolor": "#506784",
                        "linecolor": "#506784",
                        "ticks": ""
                      },
                      "baxis": {
                        "gridcolor": "#506784",
                        "linecolor": "#506784",
                        "ticks": ""
                      },
                      "bgcolor": "rgb(17,17,17)",
                      "caxis": {
                        "gridcolor": "#506784",
                        "linecolor": "#506784",
                        "ticks": ""
                      }
                    },
                    "title": {
                      "x": 0.05
                    },
                    "updatemenudefaults": {
                      "bgcolor": "#506784",
                      "borderwidth": 0
                    },
                    "xaxis": {
                      "automargin": true,
                      "gridcolor": "#283442",
                      "linecolor": "#506784",
                      "ticks": "",
                      "title": {
                        "standoff": 15
                      },
                      "zerolinecolor": "#283442",
                      "zerolinewidth": 2
                    },
                    "yaxis": {
                      "automargin": true,
                      "gridcolor": "#283442",
                      "linecolor": "#506784",
                      "ticks": "",
                      "title": {
                        "standoff": 15
                      },
                      "zerolinecolor": "#283442",
                      "zerolinewidth": 2
                    }
                  }
                },
                "title": {
                  "text": "Genetic Algorithm Optimization of SVM Hyperparameters"
                },
                "xaxis": {
                  "title": {
                    "text": "Generation"
                  }
                },
                "yaxis": {
                  "title": {
                    "text": "Best Fitness (Accuracy)"
                  }
                }
              }
            }
          },
          "metadata": {},
          "output_type": "display_data"
        }
      ],
      "source": [
        "# Run the Genetic Algorithm\n",
        "ga_instance.run()"
      ]
    },
    {
      "cell_type": "code",
      "execution_count": 15,
      "metadata": {
        "id": "cUlk8eLSNBnj"
      },
      "outputs": [
        {
          "name": "stdout",
          "output_type": "stream",
          "text": [
            "Best solution: C=4.872427991277531, gamma=0.0001, accuracy=0.9816933638443935\n"
          ]
        }
      ],
      "source": [
        "# Get the best solution\n",
        "solution, solution_fitness, solution_idx = ga_instance.best_solution()\n",
        "print(f\"Best solution: C={solution[0]}, gamma={solution[1]}, accuracy={solution_fitness}\")"
      ]
    },
    {
      "cell_type": "code",
      "execution_count": 16,
      "metadata": {
        "id": "3qdwWKtrND5Y"
      },
      "outputs": [
        {
          "data": {
            "text/html": [
              "<style>#sk-container-id-1 {color: black;}#sk-container-id-1 pre{padding: 0;}#sk-container-id-1 div.sk-toggleable {background-color: white;}#sk-container-id-1 label.sk-toggleable__label {cursor: pointer;display: block;width: 100%;margin-bottom: 0;padding: 0.3em;box-sizing: border-box;text-align: center;}#sk-container-id-1 label.sk-toggleable__label-arrow:before {content: \"▸\";float: left;margin-right: 0.25em;color: #696969;}#sk-container-id-1 label.sk-toggleable__label-arrow:hover:before {color: black;}#sk-container-id-1 div.sk-estimator:hover label.sk-toggleable__label-arrow:before {color: black;}#sk-container-id-1 div.sk-toggleable__content {max-height: 0;max-width: 0;overflow: hidden;text-align: left;background-color: #f0f8ff;}#sk-container-id-1 div.sk-toggleable__content pre {margin: 0.2em;color: black;border-radius: 0.25em;background-color: #f0f8ff;}#sk-container-id-1 input.sk-toggleable__control:checked~div.sk-toggleable__content {max-height: 200px;max-width: 100%;overflow: auto;}#sk-container-id-1 input.sk-toggleable__control:checked~label.sk-toggleable__label-arrow:before {content: \"▾\";}#sk-container-id-1 div.sk-estimator input.sk-toggleable__control:checked~label.sk-toggleable__label {background-color: #d4ebff;}#sk-container-id-1 div.sk-label input.sk-toggleable__control:checked~label.sk-toggleable__label {background-color: #d4ebff;}#sk-container-id-1 input.sk-hidden--visually {border: 0;clip: rect(1px 1px 1px 1px);clip: rect(1px, 1px, 1px, 1px);height: 1px;margin: -1px;overflow: hidden;padding: 0;position: absolute;width: 1px;}#sk-container-id-1 div.sk-estimator {font-family: monospace;background-color: #f0f8ff;border: 1px dotted black;border-radius: 0.25em;box-sizing: border-box;margin-bottom: 0.5em;}#sk-container-id-1 div.sk-estimator:hover {background-color: #d4ebff;}#sk-container-id-1 div.sk-parallel-item::after {content: \"\";width: 100%;border-bottom: 1px solid gray;flex-grow: 1;}#sk-container-id-1 div.sk-label:hover label.sk-toggleable__label {background-color: #d4ebff;}#sk-container-id-1 div.sk-serial::before {content: \"\";position: absolute;border-left: 1px solid gray;box-sizing: border-box;top: 0;bottom: 0;left: 50%;z-index: 0;}#sk-container-id-1 div.sk-serial {display: flex;flex-direction: column;align-items: center;background-color: white;padding-right: 0.2em;padding-left: 0.2em;position: relative;}#sk-container-id-1 div.sk-item {position: relative;z-index: 1;}#sk-container-id-1 div.sk-parallel {display: flex;align-items: stretch;justify-content: center;background-color: white;position: relative;}#sk-container-id-1 div.sk-item::before, #sk-container-id-1 div.sk-parallel-item::before {content: \"\";position: absolute;border-left: 1px solid gray;box-sizing: border-box;top: 0;bottom: 0;left: 50%;z-index: -1;}#sk-container-id-1 div.sk-parallel-item {display: flex;flex-direction: column;z-index: 1;position: relative;background-color: white;}#sk-container-id-1 div.sk-parallel-item:first-child::after {align-self: flex-end;width: 50%;}#sk-container-id-1 div.sk-parallel-item:last-child::after {align-self: flex-start;width: 50%;}#sk-container-id-1 div.sk-parallel-item:only-child::after {width: 0;}#sk-container-id-1 div.sk-dashed-wrapped {border: 1px dashed gray;margin: 0 0.4em 0.5em 0.4em;box-sizing: border-box;padding-bottom: 0.4em;background-color: white;}#sk-container-id-1 div.sk-label label {font-family: monospace;font-weight: bold;display: inline-block;line-height: 1.2em;}#sk-container-id-1 div.sk-label-container {text-align: center;}#sk-container-id-1 div.sk-container {/* jupyter's `normalize.less` sets `[hidden] { display: none; }` but bootstrap.min.css set `[hidden] { display: none !important; }` so we also need the `!important` here to be able to override the default hidden behavior on the sphinx rendered scikit-learn.org. See: https://github.com/scikit-learn/scikit-learn/issues/21755 */display: inline-block !important;position: relative;}#sk-container-id-1 div.sk-text-repr-fallback {display: none;}</style><div id=\"sk-container-id-1\" class=\"sk-top-container\"><div class=\"sk-text-repr-fallback\"><pre>SVC(C=4.872427991277531, class_weight=&#x27;balanced&#x27;, gamma=0.0001)</pre><b>In a Jupyter environment, please rerun this cell to show the HTML representation or trust the notebook. <br />On GitHub, the HTML representation is unable to render, please try loading this page with nbviewer.org.</b></div><div class=\"sk-container\" hidden><div class=\"sk-item\"><div class=\"sk-estimator sk-toggleable\"><input class=\"sk-toggleable__control sk-hidden--visually\" id=\"sk-estimator-id-1\" type=\"checkbox\" checked><label for=\"sk-estimator-id-1\" class=\"sk-toggleable__label sk-toggleable__label-arrow\">SVC</label><div class=\"sk-toggleable__content\"><pre>SVC(C=4.872427991277531, class_weight=&#x27;balanced&#x27;, gamma=0.0001)</pre></div></div></div></div></div>"
            ],
            "text/plain": [
              "SVC(C=4.872427991277531, class_weight='balanced', gamma=0.0001)"
            ]
          },
          "execution_count": 16,
          "metadata": {},
          "output_type": "execute_result"
        }
      ],
      "source": [
        "# Evaluate the best solution\n",
        "best_C = solution[0]\n",
        "best_gamma = solution[1]\n",
        "best_svm = SVC(kernel='rbf', C=best_C, gamma=best_gamma, class_weight='balanced')\n",
        "best_svm.fit(train_features, train_labels)"
      ]
    },
    {
      "cell_type": "code",
      "execution_count": 17,
      "metadata": {
        "id": "Nw5MlJrkNGUa"
      },
      "outputs": [
        {
          "name": "stdout",
          "output_type": "stream",
          "text": [
            "Train Accuracy: 0.9991\n",
            "Test Accuracy: 0.9817\n"
          ]
        }
      ],
      "source": [
        "# Predictions and evaluation\n",
        "train_predictions = best_svm.predict(train_features)\n",
        "test_predictions = best_svm.predict(test_features)\n",
        "\n",
        "train_accuracy = accuracy_score(train_labels, train_predictions)\n",
        "test_accuracy = accuracy_score(test_labels, test_predictions)\n",
        "\n",
        "print(f\"Train Accuracy: {train_accuracy:.4f}\")\n",
        "print(f\"Test Accuracy: {test_accuracy:.4f}\")"
      ]
    },
    {
      "cell_type": "code",
      "execution_count": 18,
      "metadata": {
        "id": "l3mkQw4JNJWf"
      },
      "outputs": [
        {
          "name": "stdout",
          "output_type": "stream",
          "text": [
            "Confusion Matrix:\n",
            " [[289  10   0   1]\n",
            " [  5 295   3   3]\n",
            " [  0   0 405   0]\n",
            " [  0   2   0 298]]\n"
          ]
        },
        {
          "data": {
            "image/png": "[encoded data removed]",
            "text/plain": [
              "<Figure size 800x600 with 2 Axes>"
            ]
          },
          "metadata": {},
          "output_type": "display_data"
        }
      ],
      "source": [
        "# Sample class names\n",
        "class_names = ['glioma', 'meningioma', 'notumor', 'pituitary']\n",
        "\n",
        "# Confusion matrix\n",
        "conf_matrix = confusion_matrix(test_labels, test_predictions)\n",
        "print(\"Confusion Matrix:\\n\", conf_matrix)\n",
        "\n",
        "# Generate the confusion matrix\n",
        "conf_matrix_df = pd.DataFrame(conf_matrix, index=class_names, columns=class_names)\n",
        "\n",
        "# Create the heatmap\n",
        "plt.figure(figsize=(8, 6))\n",
        "sns.set(font_scale=1.2)  # Adjust to make the text larger\n",
        "ax = sns.heatmap(conf_matrix_df, annot=True, fmt='d', cmap='Blues', cbar_kws={'label': 'Count'}, linewidths=0.5, linecolor='black')\n",
        "\n",
        "# Labels and titles\n",
        "plt.ylabel('True Label', fontsize=14)\n",
        "plt.xlabel('Predicted Label', fontsize=14)\n",
        "plt.title('Confusion Matrix', fontsize=16, pad=20)\n",
        "\n",
        "# Customize color bar\n",
        "colorbar = ax.collections[0].colorbar\n",
        "colorbar.set_label('Count', rotation=270, labelpad=20, fontsize=12)\n",
        "colorbar.ax.tick_params(labelsize=12)\n",
        "\n",
        "# Adjust layout for better fit\n",
        "plt.tight_layout()\n",
        "\n",
        "# Show the plot\n",
        "plt.show()"
      ]
    },
    {
      "cell_type": "code",
      "execution_count": 19,
      "metadata": {
        "id": "YClGtigxNSh7"
      },
      "outputs": [
        {
          "name": "stdout",
          "output_type": "stream",
          "text": [
            "Classification Report:\n",
            "               precision    recall  f1-score   support\n",
            "\n",
            "      glioma       0.98      0.96      0.97       300\n",
            "  meningioma       0.96      0.96      0.96       306\n",
            "     notumor       0.99      1.00      1.00       405\n",
            "   pituitary       0.99      0.99      0.99       300\n",
            "\n",
            "    accuracy                           0.98      1311\n",
            "   macro avg       0.98      0.98      0.98      1311\n",
            "weighted avg       0.98      0.98      0.98      1311\n",
            "\n",
            "Accuracy: 0.9817\n",
            "Class: glioma\n",
            " Precision: 0.9830\n",
            " Recall: 0.9633\n",
            " F1-Score: 0.9731\n",
            "Class: meningioma\n",
            " Precision: 0.9609\n",
            " Recall: 0.9641\n",
            " F1-Score: 0.9625\n",
            "Class: notumor\n",
            " Precision: 0.9926\n",
            " Recall: 1.0000\n",
            " F1-Score: 0.9963\n",
            "Class: pituitary\n",
            " Precision: 0.9868\n",
            " Recall: 0.9933\n",
            " F1-Score: 0.9900\n"
          ]
        }
      ],
      "source": [
        "# Sample class names\n",
        "class_names = ['glioma', 'meningioma', 'notumor', 'pituitary']\n",
        "\n",
        "# Generate the classification report\n",
        "class_report = classification_report(test_labels, test_predictions, target_names=class_names)\n",
        "print(\"Classification Report:\\n\", class_report)\n",
        "\n",
        "# Calculate overall accuracy\n",
        "accuracy = accuracy_score(test_labels, test_predictions)\n",
        "print(f\"Accuracy: {accuracy:.4f}\")\n",
        "\n",
        "# Parse the classification report to extract individual metrics\n",
        "report_dict = classification_report(test_labels, test_predictions, target_names=class_names, output_dict=True)\n",
        "\n",
        "# Iterate over each class and print detailed metrics\n",
        "for class_name in class_names:\n",
        "    class_metrics = report_dict[class_name]\n",
        "    print(f\"Class: {class_name}\")\n",
        "    print(f\" Precision: {class_metrics['precision']:.4f}\")\n",
        "    print(f\" Recall: {class_metrics['recall']:.4f}\")\n",
        "    print(f\" F1-Score: {class_metrics['f1-score']:.4f}\")"
      ]
    },
    {
      "cell_type": "code",
      "execution_count": 20,
      "metadata": {
        "id": "gQTqMfXKNY1r"
      },
      "outputs": [
        {
          "data": {
            "application/vnd.plotly.v1+json": {
              "config": {
                "plotlyServerURL": "https://plot.ly"
              },
              "data": [
                {
                  "mode": "lines+markers",
                  "name": "Best Fitness",
                  "type": "scatter",
                  "x": [
                    0
                  ],
                  "y": [
                    0.9809305873379099
                  ]
                }
              ],
              "frames": [
                {
                  "data": [
                    {
                      "mode": "lines+markers",
                      "name": "Best Fitness",
                      "type": "scatter",
                      "x": [
                        0
                      ],
                      "y": [
                        0.9809305873379099
                      ]
                    }
                  ]
                },
                {
                  "data": [
                    {
                      "mode": "lines+markers",
                      "name": "Best Fitness",
                      "type": "scatter",
                      "x": [
                        0,
                        1
                      ],
                      "y": [
                        0.9809305873379099,
                        0.9809305873379099
                      ]
                    }
                  ]
                },
                {
                  "data": [
                    {
                      "mode": "lines+markers",
                      "name": "Best Fitness",
                      "type": "scatter",
                      "x": [
                        0,
                        1,
                        2
                      ],
                      "y": [
                        0.9809305873379099,
                        0.9809305873379099,
                        0.9809305873379099
                      ]
                    }
                  ]
                },
                {
                  "data": [
                    {
                      "mode": "lines+markers",
                      "name": "Best Fitness",
                      "type": "scatter",
                      "x": [
                        0,
                        1,
                        2,
                        3
                      ],
                      "y": [
                        0.9809305873379099,
                        0.9809305873379099,
                        0.9809305873379099,
                        0.9809305873379099
                      ]
                    }
                  ]
                },
                {
                  "data": [
                    {
                      "mode": "lines+markers",
                      "name": "Best Fitness",
                      "type": "scatter",
                      "x": [
                        0,
                        1,
                        2,
                        3,
                        4
                      ],
                      "y": [
                        0.9809305873379099,
                        0.9809305873379099,
                        0.9809305873379099,
                        0.9809305873379099,
                        0.9809305873379099
                      ]
                    }
                  ]
                },
                {
                  "data": [
                    {
                      "mode": "lines+markers",
                      "name": "Best Fitness",
                      "type": "scatter",
                      "x": [
                        0,
                        1,
                        2,
                        3,
                        4,
                        5
                      ],
                      "y": [
                        0.9809305873379099,
                        0.9809305873379099,
                        0.9809305873379099,
                        0.9809305873379099,
                        0.9809305873379099,
                        0.9809305873379099
                      ]
                    }
                  ]
                },
                {
                  "data": [
                    {
                      "mode": "lines+markers",
                      "name": "Best Fitness",
                      "type": "scatter",
                      "x": [
                        0,
                        1,
                        2,
                        3,
                        4,
                        5,
                        6
                      ],
                      "y": [
                        0.9809305873379099,
                        0.9809305873379099,
                        0.9809305873379099,
                        0.9809305873379099,
                        0.9809305873379099,
                        0.9809305873379099,
                        0.9816933638443935
                      ]
                    }
                  ]
                },
                {
                  "data": [
                    {
                      "mode": "lines+markers",
                      "name": "Best Fitness",
                      "type": "scatter",
                      "x": [
                        0,
                        1,
                        2,
                        3,
                        4,
                        5,
                        6,
                        7
                      ],
                      "y": [
                        0.9809305873379099,
                        0.9809305873379099,
                        0.9809305873379099,
                        0.9809305873379099,
                        0.9809305873379099,
                        0.9809305873379099,
                        0.9816933638443935,
                        0.9816933638443935
                      ]
                    }
                  ]
                },
                {
                  "data": [
                    {
                      "mode": "lines+markers",
                      "name": "Best Fitness",
                      "type": "scatter",
                      "x": [
                        0,
                        1,
                        2,
                        3,
                        4,
                        5,
                        6,
                        7,
                        8
                      ],
                      "y": [
                        0.9809305873379099,
                        0.9809305873379099,
                        0.9809305873379099,
                        0.9809305873379099,
                        0.9809305873379099,
                        0.9809305873379099,
                        0.9816933638443935,
                        0.9816933638443935,
                        0.9816933638443935
                      ]
                    }
                  ]
                },
                {
                  "data": [
                    {
                      "mode": "lines+markers",
                      "name": "Best Fitness",
                      "type": "scatter",
                      "x": [
                        0,
                        1,
                        2,
                        3,
                        4,
                        5,
                        6,
                        7,
                        8,
                        9
                      ],
                      "y": [
                        0.9809305873379099,
                        0.9809305873379099,
                        0.9809305873379099,
                        0.9809305873379099,
                        0.9809305873379099,
                        0.9809305873379099,
                        0.9816933638443935,
                        0.9816933638443935,
                        0.9816933638443935,
                        0.9816933638443935
                      ]
                    }
                  ]
                },
                {
                  "data": [
                    {
                      "mode": "lines+markers",
                      "name": "Best Fitness",
                      "type": "scatter",
                      "x": [
                        0,
                        1,
                        2,
                        3,
                        4,
                        5,
                        6,
                        7,
                        8,
                        9,
                        10
                      ],
                      "y": [
                        0.9809305873379099,
                        0.9809305873379099,
                        0.9809305873379099,
                        0.9809305873379099,
                        0.9809305873379099,
                        0.9809305873379099,
                        0.9816933638443935,
                        0.9816933638443935,
                        0.9816933638443935,
                        0.9816933638443935,
                        0.9816933638443935
                      ]
                    }
                  ]
                },
                {
                  "data": [
                    {
                      "mode": "lines+markers",
                      "name": "Best Fitness",
                      "type": "scatter",
                      "x": [
                        0,
                        1,
                        2,
                        3,
                        4,
                        5,
                        6,
                        7,
                        8,
                        9,
                        10,
                        11
                      ],
                      "y": [
                        0.9809305873379099,
                        0.9809305873379099,
                        0.9809305873379099,
                        0.9809305873379099,
                        0.9809305873379099,
                        0.9809305873379099,
                        0.9816933638443935,
                        0.9816933638443935,
                        0.9816933638443935,
                        0.9816933638443935,
                        0.9816933638443935,
                        0.9816933638443935
                      ]
                    }
                  ]
                },
                {
                  "data": [
                    {
                      "mode": "lines+markers",
                      "name": "Best Fitness",
                      "type": "scatter",
                      "x": [
                        0,
                        1,
                        2,
                        3,
                        4,
                        5,
                        6,
                        7,
                        8,
                        9,
                        10,
                        11,
                        12
                      ],
                      "y": [
                        0.9809305873379099,
                        0.9809305873379099,
                        0.9809305873379099,
                        0.9809305873379099,
                        0.9809305873379099,
                        0.9809305873379099,
                        0.9816933638443935,
                        0.9816933638443935,
                        0.9816933638443935,
                        0.9816933638443935,
                        0.9816933638443935,
                        0.9816933638443935,
                        0.9816933638443935
                      ]
                    }
                  ]
                },
                {
                  "data": [
                    {
                      "mode": "lines+markers",
                      "name": "Best Fitness",
                      "type": "scatter",
                      "x": [
                        0,
                        1,
                        2,
                        3,
                        4,
                        5,
                        6,
                        7,
                        8,
                        9,
                        10,
                        11,
                        12,
                        13
                      ],
                      "y": [
                        0.9809305873379099,
                        0.9809305873379099,
                        0.9809305873379099,
                        0.9809305873379099,
                        0.9809305873379099,
                        0.9809305873379099,
                        0.9816933638443935,
                        0.9816933638443935,
                        0.9816933638443935,
                        0.9816933638443935,
                        0.9816933638443935,
                        0.9816933638443935,
                        0.9816933638443935,
                        0.9816933638443935
                      ]
                    }
                  ]
                },
                {
                  "data": [
                    {
                      "mode": "lines+markers",
                      "name": "Best Fitness",
                      "type": "scatter",
                      "x": [
                        0,
                        1,
                        2,
                        3,
                        4,
                        5,
                        6,
                        7,
                        8,
                        9,
                        10,
                        11,
                        12,
                        13,
                        14
                      ],
                      "y": [
                        0.9809305873379099,
                        0.9809305873379099,
                        0.9809305873379099,
                        0.9809305873379099,
                        0.9809305873379099,
                        0.9809305873379099,
                        0.9816933638443935,
                        0.9816933638443935,
                        0.9816933638443935,
                        0.9816933638443935,
                        0.9816933638443935,
                        0.9816933638443935,
                        0.9816933638443935,
                        0.9816933638443935,
                        0.9816933638443935
                      ]
                    }
                  ]
                },
                {
                  "data": [
                    {
                      "mode": "lines+markers",
                      "name": "Best Fitness",
                      "type": "scatter",
                      "x": [
                        0,
                        1,
                        2,
                        3,
                        4,
                        5,
                        6,
                        7,
                        8,
                        9,
                        10,
                        11,
                        12,
                        13,
                        14,
                        15
                      ],
                      "y": [
                        0.9809305873379099,
                        0.9809305873379099,
                        0.9809305873379099,
                        0.9809305873379099,
                        0.9809305873379099,
                        0.9809305873379099,
                        0.9816933638443935,
                        0.9816933638443935,
                        0.9816933638443935,
                        0.9816933638443935,
                        0.9816933638443935,
                        0.9816933638443935,
                        0.9816933638443935,
                        0.9816933638443935,
                        0.9816933638443935,
                        0.9816933638443935
                      ]
                    }
                  ]
                },
                {
                  "data": [
                    {
                      "mode": "lines+markers",
                      "name": "Best Fitness",
                      "type": "scatter",
                      "x": [
                        0,
                        1,
                        2,
                        3,
                        4,
                        5,
                        6,
                        7,
                        8,
                        9,
                        10,
                        11,
                        12,
                        13,
                        14,
                        15,
                        16
                      ],
                      "y": [
                        0.9809305873379099,
                        0.9809305873379099,
                        0.9809305873379099,
                        0.9809305873379099,
                        0.9809305873379099,
                        0.9809305873379099,
                        0.9816933638443935,
                        0.9816933638443935,
                        0.9816933638443935,
                        0.9816933638443935,
                        0.9816933638443935,
                        0.9816933638443935,
                        0.9816933638443935,
                        0.9816933638443935,
                        0.9816933638443935,
                        0.9816933638443935,
                        0.9816933638443935
                      ]
                    }
                  ]
                },
                {
                  "data": [
                    {
                      "mode": "lines+markers",
                      "name": "Best Fitness",
                      "type": "scatter",
                      "x": [
                        0,
                        1,
                        2,
                        3,
                        4,
                        5,
                        6,
                        7,
                        8,
                        9,
                        10,
                        11,
                        12,
                        13,
                        14,
                        15,
                        16,
                        17
                      ],
                      "y": [
                        0.9809305873379099,
                        0.9809305873379099,
                        0.9809305873379099,
                        0.9809305873379099,
                        0.9809305873379099,
                        0.9809305873379099,
                        0.9816933638443935,
                        0.9816933638443935,
                        0.9816933638443935,
                        0.9816933638443935,
                        0.9816933638443935,
                        0.9816933638443935,
                        0.9816933638443935,
                        0.9816933638443935,
                        0.9816933638443935,
                        0.9816933638443935,
                        0.9816933638443935,
                        0.9816933638443935
                      ]
                    }
                  ]
                },
                {
                  "data": [
                    {
                      "mode": "lines+markers",
                      "name": "Best Fitness",
                      "type": "scatter",
                      "x": [
                        0,
                        1,
                        2,
                        3,
                        4,
                        5,
                        6,
                        7,
                        8,
                        9,
                        10,
                        11,
                        12,
                        13,
                        14,
                        15,
                        16,
                        17,
                        18
                      ],
                      "y": [
                        0.9809305873379099,
                        0.9809305873379099,
                        0.9809305873379099,
                        0.9809305873379099,
                        0.9809305873379099,
                        0.9809305873379099,
                        0.9816933638443935,
                        0.9816933638443935,
                        0.9816933638443935,
                        0.9816933638443935,
                        0.9816933638443935,
                        0.9816933638443935,
                        0.9816933638443935,
                        0.9816933638443935,
                        0.9816933638443935,
                        0.9816933638443935,
                        0.9816933638443935,
                        0.9816933638443935,
                        0.9816933638443935
                      ]
                    }
                  ]
                },
                {
                  "data": [
                    {
                      "mode": "lines+markers",
                      "name": "Best Fitness",
                      "type": "scatter",
                      "x": [
                        0,
                        1,
                        2,
                        3,
                        4,
                        5,
                        6,
                        7,
                        8,
                        9,
                        10,
                        11,
                        12,
                        13,
                        14,
                        15,
                        16,
                        17,
                        18,
                        19
                      ],
                      "y": [
                        0.9809305873379099,
                        0.9809305873379099,
                        0.9809305873379099,
                        0.9809305873379099,
                        0.9809305873379099,
                        0.9809305873379099,
                        0.9816933638443935,
                        0.9816933638443935,
                        0.9816933638443935,
                        0.9816933638443935,
                        0.9816933638443935,
                        0.9816933638443935,
                        0.9816933638443935,
                        0.9816933638443935,
                        0.9816933638443935,
                        0.9816933638443935,
                        0.9816933638443935,
                        0.9816933638443935,
                        0.9816933638443935,
                        0.9816933638443935
                      ]
                    }
                  ]
                },
                {
                  "data": [
                    {
                      "mode": "lines+markers",
                      "name": "Best Fitness",
                      "type": "scatter",
                      "x": [
                        0,
                        1,
                        2,
                        3,
                        4,
                        5,
                        6,
                        7,
                        8,
                        9,
                        10,
                        11,
                        12,
                        13,
                        14,
                        15,
                        16,
                        17,
                        18,
                        19,
                        20
                      ],
                      "y": [
                        0.9809305873379099,
                        0.9809305873379099,
                        0.9809305873379099,
                        0.9809305873379099,
                        0.9809305873379099,
                        0.9809305873379099,
                        0.9816933638443935,
                        0.9816933638443935,
                        0.9816933638443935,
                        0.9816933638443935,
                        0.9816933638443935,
                        0.9816933638443935,
                        0.9816933638443935,
                        0.9816933638443935,
                        0.9816933638443935,
                        0.9816933638443935,
                        0.9816933638443935,
                        0.9816933638443935,
                        0.9816933638443935,
                        0.9816933638443935,
                        0.9816933638443935
                      ]
                    }
                  ]
                },
                {
                  "data": [
                    {
                      "mode": "lines+markers",
                      "name": "Best Fitness",
                      "type": "scatter",
                      "x": [
                        0,
                        1,
                        2,
                        3,
                        4,
                        5,
                        6,
                        7,
                        8,
                        9,
                        10,
                        11,
                        12,
                        13,
                        14,
                        15,
                        16,
                        17,
                        18,
                        19,
                        20,
                        21
                      ],
                      "y": [
                        0.9809305873379099,
                        0.9809305873379099,
                        0.9809305873379099,
                        0.9809305873379099,
                        0.9809305873379099,
                        0.9809305873379099,
                        0.9816933638443935,
                        0.9816933638443935,
                        0.9816933638443935,
                        0.9816933638443935,
                        0.9816933638443935,
                        0.9816933638443935,
                        0.9816933638443935,
                        0.9816933638443935,
                        0.9816933638443935,
                        0.9816933638443935,
                        0.9816933638443935,
                        0.9816933638443935,
                        0.9816933638443935,
                        0.9816933638443935,
                        0.9816933638443935,
                        0.9816933638443935
                      ]
                    }
                  ]
                },
                {
                  "data": [
                    {
                      "mode": "lines+markers",
                      "name": "Best Fitness",
                      "type": "scatter",
                      "x": [
                        0,
                        1,
                        2,
                        3,
                        4,
                        5,
                        6,
                        7,
                        8,
                        9,
                        10,
                        11,
                        12,
                        13,
                        14,
                        15,
                        16,
                        17,
                        18,
                        19,
                        20,
                        21,
                        22
                      ],
                      "y": [
                        0.9809305873379099,
                        0.9809305873379099,
                        0.9809305873379099,
                        0.9809305873379099,
                        0.9809305873379099,
                        0.9809305873379099,
                        0.9816933638443935,
                        0.9816933638443935,
                        0.9816933638443935,
                        0.9816933638443935,
                        0.9816933638443935,
                        0.9816933638443935,
                        0.9816933638443935,
                        0.9816933638443935,
                        0.9816933638443935,
                        0.9816933638443935,
                        0.9816933638443935,
                        0.9816933638443935,
                        0.9816933638443935,
                        0.9816933638443935,
                        0.9816933638443935,
                        0.9816933638443935,
                        0.9816933638443935
                      ]
                    }
                  ]
                },
                {
                  "data": [
                    {
                      "mode": "lines+markers",
                      "name": "Best Fitness",
                      "type": "scatter",
                      "x": [
                        0,
                        1,
                        2,
                        3,
                        4,
                        5,
                        6,
                        7,
                        8,
                        9,
                        10,
                        11,
                        12,
                        13,
                        14,
                        15,
                        16,
                        17,
                        18,
                        19,
                        20,
                        21,
                        22,
                        23
                      ],
                      "y": [
                        0.9809305873379099,
                        0.9809305873379099,
                        0.9809305873379099,
                        0.9809305873379099,
                        0.9809305873379099,
                        0.9809305873379099,
                        0.9816933638443935,
                        0.9816933638443935,
                        0.9816933638443935,
                        0.9816933638443935,
                        0.9816933638443935,
                        0.9816933638443935,
                        0.9816933638443935,
                        0.9816933638443935,
                        0.9816933638443935,
                        0.9816933638443935,
                        0.9816933638443935,
                        0.9816933638443935,
                        0.9816933638443935,
                        0.9816933638443935,
                        0.9816933638443935,
                        0.9816933638443935,
                        0.9816933638443935,
                        0.9816933638443935
                      ]
                    }
                  ]
                },
                {
                  "data": [
                    {
                      "mode": "lines+markers",
                      "name": "Best Fitness",
                      "type": "scatter",
                      "x": [
                        0,
                        1,
                        2,
                        3,
                        4,
                        5,
                        6,
                        7,
                        8,
                        9,
                        10,
                        11,
                        12,
                        13,
                        14,
                        15,
                        16,
                        17,
                        18,
                        19,
                        20,
                        21,
                        22,
                        23,
                        24
                      ],
                      "y": [
                        0.9809305873379099,
                        0.9809305873379099,
                        0.9809305873379099,
                        0.9809305873379099,
                        0.9809305873379099,
                        0.9809305873379099,
                        0.9816933638443935,
                        0.9816933638443935,
                        0.9816933638443935,
                        0.9816933638443935,
                        0.9816933638443935,
                        0.9816933638443935,
                        0.9816933638443935,
                        0.9816933638443935,
                        0.9816933638443935,
                        0.9816933638443935,
                        0.9816933638443935,
                        0.9816933638443935,
                        0.9816933638443935,
                        0.9816933638443935,
                        0.9816933638443935,
                        0.9816933638443935,
                        0.9816933638443935,
                        0.9816933638443935,
                        0.9816933638443935
                      ]
                    }
                  ]
                },
                {
                  "data": [
                    {
                      "mode": "lines+markers",
                      "name": "Best Fitness",
                      "type": "scatter",
                      "x": [
                        0,
                        1,
                        2,
                        3,
                        4,
                        5,
                        6,
                        7,
                        8,
                        9,
                        10,
                        11,
                        12,
                        13,
                        14,
                        15,
                        16,
                        17,
                        18,
                        19,
                        20,
                        21,
                        22,
                        23,
                        24,
                        25
                      ],
                      "y": [
                        0.9809305873379099,
                        0.9809305873379099,
                        0.9809305873379099,
                        0.9809305873379099,
                        0.9809305873379099,
                        0.9809305873379099,
                        0.9816933638443935,
                        0.9816933638443935,
                        0.9816933638443935,
                        0.9816933638443935,
                        0.9816933638443935,
                        0.9816933638443935,
                        0.9816933638443935,
                        0.9816933638443935,
                        0.9816933638443935,
                        0.9816933638443935,
                        0.9816933638443935,
                        0.9816933638443935,
                        0.9816933638443935,
                        0.9816933638443935,
                        0.9816933638443935,
                        0.9816933638443935,
                        0.9816933638443935,
                        0.9816933638443935,
                        0.9816933638443935,
                        0.9816933638443935
                      ]
                    }
                  ]
                },
                {
                  "data": [
                    {
                      "mode": "lines+markers",
                      "name": "Best Fitness",
                      "type": "scatter",
                      "x": [
                        0,
                        1,
                        2,
                        3,
                        4,
                        5,
                        6,
                        7,
                        8,
                        9,
                        10,
                        11,
                        12,
                        13,
                        14,
                        15,
                        16,
                        17,
                        18,
                        19,
                        20,
                        21,
                        22,
                        23,
                        24,
                        25,
                        26
                      ],
                      "y": [
                        0.9809305873379099,
                        0.9809305873379099,
                        0.9809305873379099,
                        0.9809305873379099,
                        0.9809305873379099,
                        0.9809305873379099,
                        0.9816933638443935,
                        0.9816933638443935,
                        0.9816933638443935,
                        0.9816933638443935,
                        0.9816933638443935,
                        0.9816933638443935,
                        0.9816933638443935,
                        0.9816933638443935,
                        0.9816933638443935,
                        0.9816933638443935,
                        0.9816933638443935,
                        0.9816933638443935,
                        0.9816933638443935,
                        0.9816933638443935,
                        0.9816933638443935,
                        0.9816933638443935,
                        0.9816933638443935,
                        0.9816933638443935,
                        0.9816933638443935,
                        0.9816933638443935,
                        0.9816933638443935
                      ]
                    }
                  ]
                },
                {
                  "data": [
                    {
                      "mode": "lines+markers",
                      "name": "Best Fitness",
                      "type": "scatter",
                      "x": [
                        0,
                        1,
                        2,
                        3,
                        4,
                        5,
                        6,
                        7,
                        8,
                        9,
                        10,
                        11,
                        12,
                        13,
                        14,
                        15,
                        16,
                        17,
                        18,
                        19,
                        20,
                        21,
                        22,
                        23,
                        24,
                        25,
                        26,
                        27
                      ],
                      "y": [
                        0.9809305873379099,
                        0.9809305873379099,
                        0.9809305873379099,
                        0.9809305873379099,
                        0.9809305873379099,
                        0.9809305873379099,
                        0.9816933638443935,
                        0.9816933638443935,
                        0.9816933638443935,
                        0.9816933638443935,
                        0.9816933638443935,
                        0.9816933638443935,
                        0.9816933638443935,
                        0.9816933638443935,
                        0.9816933638443935,
                        0.9816933638443935,
                        0.9816933638443935,
                        0.9816933638443935,
                        0.9816933638443935,
                        0.9816933638443935,
                        0.9816933638443935,
                        0.9816933638443935,
                        0.9816933638443935,
                        0.9816933638443935,
                        0.9816933638443935,
                        0.9816933638443935,
                        0.9816933638443935,
                        0.9816933638443935
                      ]
                    }
                  ]
                },
                {
                  "data": [
                    {
                      "mode": "lines+markers",
                      "name": "Best Fitness",
                      "type": "scatter",
                      "x": [
                        0,
                        1,
                        2,
                        3,
                        4,
                        5,
                        6,
                        7,
                        8,
                        9,
                        10,
                        11,
                        12,
                        13,
                        14,
                        15,
                        16,
                        17,
                        18,
                        19,
                        20,
                        21,
                        22,
                        23,
                        24,
                        25,
                        26,
                        27,
                        28
                      ],
                      "y": [
                        0.9809305873379099,
                        0.9809305873379099,
                        0.9809305873379099,
                        0.9809305873379099,
                        0.9809305873379099,
                        0.9809305873379099,
                        0.9816933638443935,
                        0.9816933638443935,
                        0.9816933638443935,
                        0.9816933638443935,
                        0.9816933638443935,
                        0.9816933638443935,
                        0.9816933638443935,
                        0.9816933638443935,
                        0.9816933638443935,
                        0.9816933638443935,
                        0.9816933638443935,
                        0.9816933638443935,
                        0.9816933638443935,
                        0.9816933638443935,
                        0.9816933638443935,
                        0.9816933638443935,
                        0.9816933638443935,
                        0.9816933638443935,
                        0.9816933638443935,
                        0.9816933638443935,
                        0.9816933638443935,
                        0.9816933638443935,
                        0.9816933638443935
                      ]
                    }
                  ]
                },
                {
                  "data": [
                    {
                      "mode": "lines+markers",
                      "name": "Best Fitness",
                      "type": "scatter",
                      "x": [
                        0,
                        1,
                        2,
                        3,
                        4,
                        5,
                        6,
                        7,
                        8,
                        9,
                        10,
                        11,
                        12,
                        13,
                        14,
                        15,
                        16,
                        17,
                        18,
                        19,
                        20,
                        21,
                        22,
                        23,
                        24,
                        25,
                        26,
                        27,
                        28,
                        29
                      ],
                      "y": [
                        0.9809305873379099,
                        0.9809305873379099,
                        0.9809305873379099,
                        0.9809305873379099,
                        0.9809305873379099,
                        0.9809305873379099,
                        0.9816933638443935,
                        0.9816933638443935,
                        0.9816933638443935,
                        0.9816933638443935,
                        0.9816933638443935,
                        0.9816933638443935,
                        0.9816933638443935,
                        0.9816933638443935,
                        0.9816933638443935,
                        0.9816933638443935,
                        0.9816933638443935,
                        0.9816933638443935,
                        0.9816933638443935,
                        0.9816933638443935,
                        0.9816933638443935,
                        0.9816933638443935,
                        0.9816933638443935,
                        0.9816933638443935,
                        0.9816933638443935,
                        0.9816933638443935,
                        0.9816933638443935,
                        0.9816933638443935,
                        0.9816933638443935,
                        0.9816933638443935
                      ]
                    }
                  ]
                }
              ],
              "layout": {
                "template": {
                  "data": {
                    "bar": [
                      {
                        "error_x": {
                          "color": "#f2f5fa"
                        },
                        "error_y": {
                          "color": "#f2f5fa"
                        },
                        "marker": {
                          "line": {
                            "color": "rgb(17,17,17)",
                            "width": 0.5
                          },
                          "pattern": {
                            "fillmode": "overlay",
                            "size": 10,
                            "solidity": 0.2
                          }
                        },
                        "type": "bar"
                      }
                    ],
                    "barpolar": [
                      {
                        "marker": {
                          "line": {
                            "color": "rgb(17,17,17)",
                            "width": 0.5
                          },
                          "pattern": {
                            "fillmode": "overlay",
                            "size": 10,
                            "solidity": 0.2
                          }
                        },
                        "type": "barpolar"
                      }
                    ],
                    "carpet": [
                      {
                        "aaxis": {
                          "endlinecolor": "#A2B1C6",
                          "gridcolor": "#506784",
                          "linecolor": "#506784",
                          "minorgridcolor": "#506784",
                          "startlinecolor": "#A2B1C6"
                        },
                        "baxis": {
                          "endlinecolor": "#A2B1C6",
                          "gridcolor": "#506784",
                          "linecolor": "#506784",
                          "minorgridcolor": "#506784",
                          "startlinecolor": "#A2B1C6"
                        },
                        "type": "carpet"
                      }
                    ],
                    "choropleth": [
                      {
                        "colorbar": {
                          "outlinewidth": 0,
                          "ticks": ""
                        },
                        "type": "choropleth"
                      }
                    ],
                    "contour": [
                      {
                        "colorbar": {
                          "outlinewidth": 0,
                          "ticks": ""
                        },
                        "colorscale": [
                          [
                            0,
                            "#0d0887"
                          ],
                          [
                            0.1111111111111111,
                            "#46039f"
                          ],
                          [
                            0.2222222222222222,
                            "#7201a8"
                          ],
                          [
                            0.3333333333333333,
                            "#9c179e"
                          ],
                          [
                            0.4444444444444444,
                            "#bd3786"
                          ],
                          [
                            0.5555555555555556,
                            "#d8576b"
                          ],
                          [
                            0.6666666666666666,
                            "#ed7953"
                          ],
                          [
                            0.7777777777777778,
                            "#fb9f3a"
                          ],
                          [
                            0.8888888888888888,
                            "#fdca26"
                          ],
                          [
                            1,
                            "#f0f921"
                          ]
                        ],
                        "type": "contour"
                      }
                    ],
                    "contourcarpet": [
                      {
                        "colorbar": {
                          "outlinewidth": 0,
                          "ticks": ""
                        },
                        "type": "contourcarpet"
                      }
                    ],
                    "heatmap": [
                      {
                        "colorbar": {
                          "outlinewidth": 0,
                          "ticks": ""
                        },
                        "colorscale": [
                          [
                            0,
                            "#0d0887"
                          ],
                          [
                            0.1111111111111111,
                            "#46039f"
                          ],
                          [
                            0.2222222222222222,
                            "#7201a8"
                          ],
                          [
                            0.3333333333333333,
                            "#9c179e"
                          ],
                          [
                            0.4444444444444444,
                            "#bd3786"
                          ],
                          [
                            0.5555555555555556,
                            "#d8576b"
                          ],
                          [
                            0.6666666666666666,
                            "#ed7953"
                          ],
                          [
                            0.7777777777777778,
                            "#fb9f3a"
                          ],
                          [
                            0.8888888888888888,
                            "#fdca26"
                          ],
                          [
                            1,
                            "#f0f921"
                          ]
                        ],
                        "type": "heatmap"
                      }
                    ],
                    "heatmapgl": [
                      {
                        "colorbar": {
                          "outlinewidth": 0,
                          "ticks": ""
                        },
                        "colorscale": [
                          [
                            0,
                            "#0d0887"
                          ],
                          [
                            0.1111111111111111,
                            "#46039f"
                          ],
                          [
                            0.2222222222222222,
                            "#7201a8"
                          ],
                          [
                            0.3333333333333333,
                            "#9c179e"
                          ],
                          [
                            0.4444444444444444,
                            "#bd3786"
                          ],
                          [
                            0.5555555555555556,
                            "#d8576b"
                          ],
                          [
                            0.6666666666666666,
                            "#ed7953"
                          ],
                          [
                            0.7777777777777778,
                            "#fb9f3a"
                          ],
                          [
                            0.8888888888888888,
                            "#fdca26"
                          ],
                          [
                            1,
                            "#f0f921"
                          ]
                        ],
                        "type": "heatmapgl"
                      }
                    ],
                    "histogram": [
                      {
                        "marker": {
                          "pattern": {
                            "fillmode": "overlay",
                            "size": 10,
                            "solidity": 0.2
                          }
                        },
                        "type": "histogram"
                      }
                    ],
                    "histogram2d": [
                      {
                        "colorbar": {
                          "outlinewidth": 0,
                          "ticks": ""
                        },
                        "colorscale": [
                          [
                            0,
                            "#0d0887"
                          ],
                          [
                            0.1111111111111111,
                            "#46039f"
                          ],
                          [
                            0.2222222222222222,
                            "#7201a8"
                          ],
                          [
                            0.3333333333333333,
                            "#9c179e"
                          ],
                          [
                            0.4444444444444444,
                            "#bd3786"
                          ],
                          [
                            0.5555555555555556,
                            "#d8576b"
                          ],
                          [
                            0.6666666666666666,
                            "#ed7953"
                          ],
                          [
                            0.7777777777777778,
                            "#fb9f3a"
                          ],
                          [
                            0.8888888888888888,
                            "#fdca26"
                          ],
                          [
                            1,
                            "#f0f921"
                          ]
                        ],
                        "type": "histogram2d"
                      }
                    ],
                    "histogram2dcontour": [
                      {
                        "colorbar": {
                          "outlinewidth": 0,
                          "ticks": ""
                        },
                        "colorscale": [
                          [
                            0,
                            "#0d0887"
                          ],
                          [
                            0.1111111111111111,
                            "#46039f"
                          ],
                          [
                            0.2222222222222222,
                            "#7201a8"
                          ],
                          [
                            0.3333333333333333,
                            "#9c179e"
                          ],
                          [
                            0.4444444444444444,
                            "#bd3786"
                          ],
                          [
                            0.5555555555555556,
                            "#d8576b"
                          ],
                          [
                            0.6666666666666666,
                            "#ed7953"
                          ],
                          [
                            0.7777777777777778,
                            "#fb9f3a"
                          ],
                          [
                            0.8888888888888888,
                            "#fdca26"
                          ],
                          [
                            1,
                            "#f0f921"
                          ]
                        ],
                        "type": "histogram2dcontour"
                      }
                    ],
                    "mesh3d": [
                      {
                        "colorbar": {
                          "outlinewidth": 0,
                          "ticks": ""
                        },
                        "type": "mesh3d"
                      }
                    ],
                    "parcoords": [
                      {
                        "line": {
                          "colorbar": {
                            "outlinewidth": 0,
                            "ticks": ""
                          }
                        },
                        "type": "parcoords"
                      }
                    ],
                    "pie": [
                      {
                        "automargin": true,
                        "type": "pie"
                      }
                    ],
                    "scatter": [
                      {
                        "marker": {
                          "line": {
                            "color": "#283442"
                          }
                        },
                        "type": "scatter"
                      }
                    ],
                    "scatter3d": [
                      {
                        "line": {
                          "colorbar": {
                            "outlinewidth": 0,
                            "ticks": ""
                          }
                        },
                        "marker": {
                          "colorbar": {
                            "outlinewidth": 0,
                            "ticks": ""
                          }
                        },
                        "type": "scatter3d"
                      }
                    ],
                    "scattercarpet": [
                      {
                        "marker": {
                          "colorbar": {
                            "outlinewidth": 0,
                            "ticks": ""
                          }
                        },
                        "type": "scattercarpet"
                      }
                    ],
                    "scattergeo": [
                      {
                        "marker": {
                          "colorbar": {
                            "outlinewidth": 0,
                            "ticks": ""
                          }
                        },
                        "type": "scattergeo"
                      }
                    ],
                    "scattergl": [
                      {
                        "marker": {
                          "line": {
                            "color": "#283442"
                          }
                        },
                        "type": "scattergl"
                      }
                    ],
                    "scattermapbox": [
                      {
                        "marker": {
                          "colorbar": {
                            "outlinewidth": 0,
                            "ticks": ""
                          }
                        },
                        "type": "scattermapbox"
                      }
                    ],
                    "scatterpolar": [
                      {
                        "marker": {
                          "colorbar": {
                            "outlinewidth": 0,
                            "ticks": ""
                          }
                        },
                        "type": "scatterpolar"
                      }
                    ],
                    "scatterpolargl": [
                      {
                        "marker": {
                          "colorbar": {
                            "outlinewidth": 0,
                            "ticks": ""
                          }
                        },
                        "type": "scatterpolargl"
                      }
                    ],
                    "scatterternary": [
                      {
                        "marker": {
                          "colorbar": {
                            "outlinewidth": 0,
                            "ticks": ""
                          }
                        },
                        "type": "scatterternary"
                      }
                    ],
                    "surface": [
                      {
                        "colorbar": {
                          "outlinewidth": 0,
                          "ticks": ""
                        },
                        "colorscale": [
                          [
                            0,
                            "#0d0887"
                          ],
                          [
                            0.1111111111111111,
                            "#46039f"
                          ],
                          [
                            0.2222222222222222,
                            "#7201a8"
                          ],
                          [
                            0.3333333333333333,
                            "#9c179e"
                          ],
                          [
                            0.4444444444444444,
                            "#bd3786"
                          ],
                          [
                            0.5555555555555556,
                            "#d8576b"
                          ],
                          [
                            0.6666666666666666,
                            "#ed7953"
                          ],
                          [
                            0.7777777777777778,
                            "#fb9f3a"
                          ],
                          [
                            0.8888888888888888,
                            "#fdca26"
                          ],
                          [
                            1,
                            "#f0f921"
                          ]
                        ],
                        "type": "surface"
                      }
                    ],
                    "table": [
                      {
                        "cells": {
                          "fill": {
                            "color": "#506784"
                          },
                          "line": {
                            "color": "rgb(17,17,17)"
                          }
                        },
                        "header": {
                          "fill": {
                            "color": "#2a3f5f"
                          },
                          "line": {
                            "color": "rgb(17,17,17)"
                          }
                        },
                        "type": "table"
                      }
                    ]
                  },
                  "layout": {
                    "annotationdefaults": {
                      "arrowcolor": "#f2f5fa",
                      "arrowhead": 0,
                      "arrowwidth": 1
                    },
                    "autotypenumbers": "strict",
                    "coloraxis": {
                      "colorbar": {
                        "outlinewidth": 0,
                        "ticks": ""
                      }
                    },
                    "colorscale": {
                      "diverging": [
                        [
                          0,
                          "#8e0152"
                        ],
                        [
                          0.1,
                          "#c51b7d"
                        ],
                        [
                          0.2,
                          "#de77ae"
                        ],
                        [
                          0.3,
                          "#f1b6da"
                        ],
                        [
                          0.4,
                          "#fde0ef"
                        ],
                        [
                          0.5,
                          "#f7f7f7"
                        ],
                        [
                          0.6,
                          "#e6f5d0"
                        ],
                        [
                          0.7,
                          "#b8e186"
                        ],
                        [
                          0.8,
                          "#7fbc41"
                        ],
                        [
                          0.9,
                          "#4d9221"
                        ],
                        [
                          1,
                          "#276419"
                        ]
                      ],
                      "sequential": [
                        [
                          0,
                          "#0d0887"
                        ],
                        [
                          0.1111111111111111,
                          "#46039f"
                        ],
                        [
                          0.2222222222222222,
                          "#7201a8"
                        ],
                        [
                          0.3333333333333333,
                          "#9c179e"
                        ],
                        [
                          0.4444444444444444,
                          "#bd3786"
                        ],
                        [
                          0.5555555555555556,
                          "#d8576b"
                        ],
                        [
                          0.6666666666666666,
                          "#ed7953"
                        ],
                        [
                          0.7777777777777778,
                          "#fb9f3a"
                        ],
                        [
                          0.8888888888888888,
                          "#fdca26"
                        ],
                        [
                          1,
                          "#f0f921"
                        ]
                      ],
                      "sequentialminus": [
                        [
                          0,
                          "#0d0887"
                        ],
                        [
                          0.1111111111111111,
                          "#46039f"
                        ],
                        [
                          0.2222222222222222,
                          "#7201a8"
                        ],
                        [
                          0.3333333333333333,
                          "#9c179e"
                        ],
                        [
                          0.4444444444444444,
                          "#bd3786"
                        ],
                        [
                          0.5555555555555556,
                          "#d8576b"
                        ],
                        [
                          0.6666666666666666,
                          "#ed7953"
                        ],
                        [
                          0.7777777777777778,
                          "#fb9f3a"
                        ],
                        [
                          0.8888888888888888,
                          "#fdca26"
                        ],
                        [
                          1,
                          "#f0f921"
                        ]
                      ]
                    },
                    "colorway": [
                      "#636efa",
                      "#EF553B",
                      "#00cc96",
                      "#ab63fa",
                      "#FFA15A",
                      "#19d3f3",
                      "#FF6692",
                      "#B6E880",
                      "#FF97FF",
                      "#FECB52"
                    ],
                    "font": {
                      "color": "#f2f5fa"
                    },
                    "geo": {
                      "bgcolor": "rgb(17,17,17)",
                      "lakecolor": "rgb(17,17,17)",
                      "landcolor": "rgb(17,17,17)",
                      "showlakes": true,
                      "showland": true,
                      "subunitcolor": "#506784"
                    },
                    "hoverlabel": {
                      "align": "left"
                    },
                    "hovermode": "closest",
                    "mapbox": {
                      "style": "dark"
                    },
                    "paper_bgcolor": "rgb(17,17,17)",
                    "plot_bgcolor": "rgb(17,17,17)",
                    "polar": {
                      "angularaxis": {
                        "gridcolor": "#506784",
                        "linecolor": "#506784",
                        "ticks": ""
                      },
                      "bgcolor": "rgb(17,17,17)",
                      "radialaxis": {
                        "gridcolor": "#506784",
                        "linecolor": "#506784",
                        "ticks": ""
                      }
                    },
                    "scene": {
                      "xaxis": {
                        "backgroundcolor": "rgb(17,17,17)",
                        "gridcolor": "#506784",
                        "gridwidth": 2,
                        "linecolor": "#506784",
                        "showbackground": true,
                        "ticks": "",
                        "zerolinecolor": "#C8D4E3"
                      },
                      "yaxis": {
                        "backgroundcolor": "rgb(17,17,17)",
                        "gridcolor": "#506784",
                        "gridwidth": 2,
                        "linecolor": "#506784",
                        "showbackground": true,
                        "ticks": "",
                        "zerolinecolor": "#C8D4E3"
                      },
                      "zaxis": {
                        "backgroundcolor": "rgb(17,17,17)",
                        "gridcolor": "#506784",
                        "gridwidth": 2,
                        "linecolor": "#506784",
                        "showbackground": true,
                        "ticks": "",
                        "zerolinecolor": "#C8D4E3"
                      }
                    },
                    "shapedefaults": {
                      "line": {
                        "color": "#f2f5fa"
                      }
                    },
                    "sliderdefaults": {
                      "bgcolor": "#C8D4E3",
                      "bordercolor": "rgb(17,17,17)",
                      "borderwidth": 1,
                      "tickwidth": 0
                    },
                    "ternary": {
                      "aaxis": {
                        "gridcolor": "#506784",
                        "linecolor": "#506784",
                        "ticks": ""
                      },
                      "baxis": {
                        "gridcolor": "#506784",
                        "linecolor": "#506784",
                        "ticks": ""
                      },
                      "bgcolor": "rgb(17,17,17)",
                      "caxis": {
                        "gridcolor": "#506784",
                        "linecolor": "#506784",
                        "ticks": ""
                      }
                    },
                    "title": {
                      "x": 0.05
                    },
                    "updatemenudefaults": {
                      "bgcolor": "#506784",
                      "borderwidth": 0
                    },
                    "xaxis": {
                      "automargin": true,
                      "gridcolor": "#283442",
                      "linecolor": "#506784",
                      "ticks": "",
                      "title": {
                        "standoff": 15
                      },
                      "zerolinecolor": "#283442",
                      "zerolinewidth": 2
                    },
                    "yaxis": {
                      "automargin": true,
                      "gridcolor": "#283442",
                      "linecolor": "#506784",
                      "ticks": "",
                      "title": {
                        "standoff": 15
                      },
                      "zerolinecolor": "#283442",
                      "zerolinewidth": 2
                    }
                  }
                },
                "title": {
                  "text": "Genetic Algorithm Optimization of SVM Hyperparameters"
                },
                "updatemenus": [
                  {
                    "buttons": [
                      {
                        "args": [
                          null,
                          {
                            "frame": {
                              "duration": 100,
                              "redraw": true
                            },
                            "fromcurrent": true
                          }
                        ],
                        "label": "Play",
                        "method": "animate"
                      },
                      {
                        "args": [
                          [
                            null
                          ],
                          {
                            "frame": {
                              "duration": 0,
                              "redraw": true
                            },
                            "mode": "immediate",
                            "transition": {
                              "duration": 0
                            }
                          }
                        ],
                        "label": "Pause",
                        "method": "animate"
                      }
                    ],
                    "direction": "left",
                    "pad": {
                      "r": 10,
                      "t": 87
                    },
                    "showactive": false,
                    "type": "buttons",
                    "x": 0.1,
                    "xanchor": "right",
                    "y": 0,
                    "yanchor": "top"
                  }
                ],
                "xaxis": {
                  "title": {
                    "text": "Generation"
                  }
                },
                "yaxis": {
                  "title": {
                    "text": "Best Fitness (Accuracy)"
                  }
                }
              }
            }
          },
          "metadata": {},
          "output_type": "display_data"
        }
      ],
      "source": [
        "# Plotting the GA performance with animation\n",
        "frames = [go.Frame(data=[go.Scatter(\n",
        "    x=list(range(generation+1)),\n",
        "    y=best_fitness_values[:generation+1],\n",
        "    mode='lines+markers',\n",
        "    name='Best Fitness'\n",
        ")]) for generation in range(len(best_fitness_values))]\n",
        "\n",
        "fig = go.Figure(\n",
        "    data=[go.Scatter(x=[0], y=[best_fitness_values[0]], mode='lines+markers', name='Best Fitness')],\n",
        "    frames=frames\n",
        ")\n",
        "\n",
        "fig.update_layout(\n",
        "    title=\"Genetic Algorithm Optimization of SVM Hyperparameters\",\n",
        "    xaxis_title=\"Generation\",\n",
        "    yaxis_title=\"Best Fitness (Accuracy)\",\n",
        "    template=\"plotly_dark\",\n",
        "    updatemenus=[{\n",
        "        \"buttons\": [\n",
        "            {\n",
        "                \"args\": [None, {\"frame\": {\"duration\": 100, \"redraw\": True}, \"fromcurrent\": True}],\n",
        "                \"label\": \"Play\",\n",
        "                \"method\": \"animate\"\n",
        "            },\n",
        "            {\n",
        "                \"args\": [[None], {\"frame\": {\"duration\": 0, \"redraw\": True}, \"mode\": \"immediate\", \"transition\": {\"duration\": 0}}],\n",
        "                \"label\": \"Pause\",\n",
        "                \"method\": \"animate\"\n",
        "            }\n",
        "        ],\n",
        "        \"direction\": \"left\",\n",
        "        \"pad\": {\"r\": 10, \"t\": 87},\n",
        "        \"showactive\": False,\n",
        "        \"type\": \"buttons\",\n",
        "        \"x\": 0.1,\n",
        "        \"xanchor\": \"right\",\n",
        "        \"y\": 0,\n",
        "        \"yanchor\": \"top\"\n",
        "    }]\n",
        ")\n",
        "\n",
        "fig.show()"
      ]
    },
    {
      "cell_type": "code",
      "execution_count": 21,
      "metadata": {
        "id": "54Vy-wAzKoNn"
      },
      "outputs": [],
      "source": [
        "import umap"
      ]
    },
    {
      "cell_type": "code",
      "execution_count": 22,
      "metadata": {
        "id": "PS8H7hMlLD7t"
      },
      "outputs": [
        {
          "name": "stderr",
          "output_type": "stream",
          "text": [
            "/Users/albertwv/miniconda3/lib/python3.11/site-packages/umap/umap_.py:1943: UserWarning:\n",
            "\n",
            "n_jobs value -1 overridden to 1 by setting random_state. Use no seed for parallelism.\n",
            "\n",
            "OMP: Info #276: omp_set_nested routine deprecated, please use omp_set_max_active_levels instead.\n"
          ]
        },
        {
          "data": {
            "image/png": "[encoded data removed]",
            "text/plain": [
              "<Figure size 1000x800 with 2 Axes>"
            ]
          },
          "metadata": {},
          "output_type": "display_data"
        }
      ],
      "source": [
        "# UMAP Visualization\n",
        "# Initialize UMAP\n",
        "umap_model = umap.UMAP(n_neighbors=15, min_dist=0.1, n_components=2, random_state=42)\n",
        "umap_features = umap_model.fit_transform(train_features)\n",
        "\n",
        "# Plot UMAP results\n",
        "plt.figure(figsize=(10, 8))\n",
        "scatter = plt.scatter(umap_features[:, 0], umap_features[:, 1], c=train_labels, cmap='Purples', s=10)\n",
        "plt.colorbar(scatter, boundaries=np.arange(len(class_names) + 1) - 0.5).set_ticks(np.arange(len(class_names)))\n",
        "plt.title('UMAP Projection of Brain Tumor Features', fontsize=16)\n",
        "plt.xlabel('UMAP Dimension 1', fontsize=14)\n",
        "plt.ylabel('UMAP Dimension 2', fontsize=14)\n",
        "plt.grid(True)\n",
        "plt.show()"
      ]
    },
    {
      "cell_type": "code",
      "execution_count": 23,
      "metadata": {},
      "outputs": [
        {
          "name": "stderr",
          "output_type": "stream",
          "text": [
            "/Users/albertwv/miniconda3/lib/python3.11/site-packages/umap/umap_.py:1943: UserWarning:\n",
            "\n",
            "n_jobs value -1 overridden to 1 by setting random_state. Use no seed for parallelism.\n",
            "\n"
          ]
        },
        {
          "data": {
            "image/png": "[encoded data removed]",
            "text/plain": [
              "<Figure size 1000x800 with 2 Axes>"
            ]
          },
          "metadata": {},
          "output_type": "display_data"
        }
      ],
      "source": [
        "# UMAP Visualization for classes\n",
        "umap_model_classes = umap.UMAP(n_neighbors=15, min_dist=0.1, n_components=2, random_state=42)\n",
        "umap_classes = umap_model_classes.fit_transform(train_features)\n",
        "\n",
        "# Plot UMAP results for classes\n",
        "plt.figure(figsize=(10, 8))\n",
        "scatter_classes = plt.scatter(umap_classes[:, 0], umap_classes[:, 1], c=train_labels, cmap='viridis', s=10)\n",
        "plt.colorbar(scatter_classes, boundaries=np.arange(len(class_names) + 1) - 0.5).set_ticks(np.arange(len(class_names)))\n",
        "plt.title('UMAP Projection of Brain Tumor Classes', fontsize=16)\n",
        "plt.xlabel('UMAP Dimension 1', fontsize=14)\n",
        "plt.ylabel('UMAP Dimension 2', fontsize=14)\n",
        "plt.grid(True)\n",
        "plt.show()"
      ]
    }
  ],
  "metadata": {
    "colab": {
      "provenance": []
    },
    "kernelspec": {
      "display_name": "Python 3",
      "name": "python3"
    },
    "language_info": {
      "codemirror_mode": {
        "name": "ipython",
        "version": 3
      },
      "file_extension": ".py",
      "mimetype": "text/x-python",
      "name": "python",
      "nbconvert_exporter": "python",
      "pygments_lexer": "ipython3",
      "version": "3.11.4"
    }
  },
  "nbformat": 4,
  "nbformat_minor": 0
}
